{
 "cells": [
  {
   "cell_type": "code",
   "execution_count": null,
   "metadata": {},
   "outputs": [],
   "source": [
    "import pandas as pd\n",
    "# For oneway ANOVA\n",
    "import scipy.stats as st \n",
    "\n",
    "# For Post Hoc\n",
    "from statsmodels.stats.multicomp import pairwise_tukeyhsd\n",
    "from statsmodels.stats.multicomp import MultiComparison as multi"
   ]
  },
  {
   "cell_type": "code",
   "execution_count": null,
   "metadata": {},
   "outputs": [],
   "source": [
    "# Read data stored in csv file\n",
    "df = pd.read_csv(\"differences3.csv\")\n",
    "\n",
    "\n",
    "# # assign label to each student type: Online, InPerson, Hybrid\n",
    "df[\"Student\"].replace({1:\"Online\", 2:\"InPerson\", 3:\"Hybrid\"}, inplace=True)\n",
    "\n",
    "# Oneway ANOVA \n",
    "Results = st.f_oneway(df[\"Score\"][df[\"Student\"]==\"Online\"], df[\"Score\"][df[\"Student\"]==\"InPerson\"], df[\"Score\"][df[\"Student\"]==\"Hybrid\"])\n",
    "\n",
    "print (\"ANOVA Results: \", Results)"
   ]
  },
  {
   "cell_type": "code",
   "execution_count": null,
   "metadata": {},
   "outputs": [],
   "source": [
    "# Post Hoc\n",
    "MultiComp = multi(df[\"Score\"], df[\"Student\"])\n",
    "PostHoc = MultiComp.tukeyhsd()"
   ]
  },
  {
   "cell_type": "code",
   "execution_count": null,
   "metadata": {},
   "outputs": [],
   "source": [
    "print (PostHoc)"
   ]
  },
  {
   "cell_type": "code",
   "execution_count": null,
   "metadata": {},
   "outputs": [],
   "source": []
  }
 ],
 "metadata": {
  "kernelspec": {
   "display_name": "Python 3 (ipykernel)",
   "language": "python",
   "name": "python3"
  },
  "language_info": {
   "codemirror_mode": {
    "name": "ipython",
    "version": 3
   },
   "file_extension": ".py",
   "mimetype": "text/x-python",
   "name": "python",
   "nbconvert_exporter": "python",
   "pygments_lexer": "ipython3",
   "version": "3.9.7"
  }
 },
 "nbformat": 4,
 "nbformat_minor": 2
}
