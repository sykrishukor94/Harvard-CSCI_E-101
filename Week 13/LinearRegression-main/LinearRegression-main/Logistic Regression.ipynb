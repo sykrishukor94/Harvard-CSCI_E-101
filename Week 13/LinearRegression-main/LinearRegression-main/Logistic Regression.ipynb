{
 "cells": [
  {
   "cell_type": "markdown",
   "id": "d7c65597",
   "metadata": {},
   "source": [
    "# Logistic Regression\n",
    "\n",
    "dataset:\n",
    "https://r-data.pmagunia.com/dataset/r-dataset-package-islr-default"
   ]
  },
  {
   "cell_type": "code",
   "execution_count": 110,
   "id": "a2099672",
   "metadata": {},
   "outputs": [],
   "source": [
    "\n",
    "import pandas as pd \n",
    "import numpy as np\n",
    "import matplotlib.pyplot as plt\n",
    "\n",
    "from sklearn.model_selection import train_test_split\n",
    "from sklearn.linear_model import LogisticRegression, LinearRegression\n",
    "import seaborn as sns"
   ]
  },
  {
   "cell_type": "code",
   "execution_count": 111,
   "id": "abc530ce",
   "metadata": {},
   "outputs": [
    {
     "name": "stdout",
     "output_type": "stream",
     "text": [
      "(10000, 4)\n"
     ]
    },
    {
     "data": {
      "text/html": [
       "<div>\n",
       "<style scoped>\n",
       "    .dataframe tbody tr th:only-of-type {\n",
       "        vertical-align: middle;\n",
       "    }\n",
       "\n",
       "    .dataframe tbody tr th {\n",
       "        vertical-align: top;\n",
       "    }\n",
       "\n",
       "    .dataframe thead th {\n",
       "        text-align: right;\n",
       "    }\n",
       "</style>\n",
       "<table border=\"1\" class=\"dataframe\">\n",
       "  <thead>\n",
       "    <tr style=\"text-align: right;\">\n",
       "      <th></th>\n",
       "      <th>default</th>\n",
       "      <th>student</th>\n",
       "      <th>balance</th>\n",
       "      <th>income</th>\n",
       "    </tr>\n",
       "  </thead>\n",
       "  <tbody>\n",
       "    <tr>\n",
       "      <th>0</th>\n",
       "      <td>No</td>\n",
       "      <td>No</td>\n",
       "      <td>729.526495</td>\n",
       "      <td>44361.625074</td>\n",
       "    </tr>\n",
       "    <tr>\n",
       "      <th>1</th>\n",
       "      <td>No</td>\n",
       "      <td>Yes</td>\n",
       "      <td>817.180407</td>\n",
       "      <td>12106.134700</td>\n",
       "    </tr>\n",
       "    <tr>\n",
       "      <th>2</th>\n",
       "      <td>No</td>\n",
       "      <td>No</td>\n",
       "      <td>1073.549164</td>\n",
       "      <td>31767.138947</td>\n",
       "    </tr>\n",
       "    <tr>\n",
       "      <th>3</th>\n",
       "      <td>No</td>\n",
       "      <td>No</td>\n",
       "      <td>529.250605</td>\n",
       "      <td>35704.493935</td>\n",
       "    </tr>\n",
       "    <tr>\n",
       "      <th>4</th>\n",
       "      <td>No</td>\n",
       "      <td>No</td>\n",
       "      <td>785.655883</td>\n",
       "      <td>38463.495879</td>\n",
       "    </tr>\n",
       "  </tbody>\n",
       "</table>\n",
       "</div>"
      ],
      "text/plain": [
       "  default student      balance        income\n",
       "0      No      No   729.526495  44361.625074\n",
       "1      No     Yes   817.180407  12106.134700\n",
       "2      No      No  1073.549164  31767.138947\n",
       "3      No      No   529.250605  35704.493935\n",
       "4      No      No   785.655883  38463.495879"
      ]
     },
     "execution_count": 111,
     "metadata": {},
     "output_type": "execute_result"
    }
   ],
   "source": [
    "df = pd.read_csv(\"default.csv\")\n",
    "print(df.shape)\n",
    "df.head()\n"
   ]
  },
  {
   "cell_type": "code",
   "execution_count": 112,
   "id": "d39ec225",
   "metadata": {},
   "outputs": [
    {
     "data": {
      "text/plain": [
       "array(['No', 'Yes'], dtype=object)"
      ]
     },
     "execution_count": 112,
     "metadata": {},
     "output_type": "execute_result"
    }
   ],
   "source": [
    "df['default'].unique()"
   ]
  },
  {
   "cell_type": "code",
   "execution_count": 113,
   "id": "9d152ae5",
   "metadata": {},
   "outputs": [
    {
     "data": {
      "text/html": [
       "<div>\n",
       "<style scoped>\n",
       "    .dataframe tbody tr th:only-of-type {\n",
       "        vertical-align: middle;\n",
       "    }\n",
       "\n",
       "    .dataframe tbody tr th {\n",
       "        vertical-align: top;\n",
       "    }\n",
       "\n",
       "    .dataframe thead th {\n",
       "        text-align: right;\n",
       "    }\n",
       "</style>\n",
       "<table border=\"1\" class=\"dataframe\">\n",
       "  <thead>\n",
       "    <tr style=\"text-align: right;\">\n",
       "      <th></th>\n",
       "      <th>default</th>\n",
       "      <th>student</th>\n",
       "      <th>balance</th>\n",
       "      <th>income</th>\n",
       "    </tr>\n",
       "  </thead>\n",
       "  <tbody>\n",
       "    <tr>\n",
       "      <th>0</th>\n",
       "      <td>0</td>\n",
       "      <td>No</td>\n",
       "      <td>729.526495</td>\n",
       "      <td>44361.625074</td>\n",
       "    </tr>\n",
       "    <tr>\n",
       "      <th>1</th>\n",
       "      <td>0</td>\n",
       "      <td>Yes</td>\n",
       "      <td>817.180407</td>\n",
       "      <td>12106.134700</td>\n",
       "    </tr>\n",
       "    <tr>\n",
       "      <th>2</th>\n",
       "      <td>0</td>\n",
       "      <td>No</td>\n",
       "      <td>1073.549164</td>\n",
       "      <td>31767.138947</td>\n",
       "    </tr>\n",
       "    <tr>\n",
       "      <th>3</th>\n",
       "      <td>0</td>\n",
       "      <td>No</td>\n",
       "      <td>529.250605</td>\n",
       "      <td>35704.493935</td>\n",
       "    </tr>\n",
       "    <tr>\n",
       "      <th>4</th>\n",
       "      <td>0</td>\n",
       "      <td>No</td>\n",
       "      <td>785.655883</td>\n",
       "      <td>38463.495879</td>\n",
       "    </tr>\n",
       "  </tbody>\n",
       "</table>\n",
       "</div>"
      ],
      "text/plain": [
       "   default student      balance        income\n",
       "0        0      No   729.526495  44361.625074\n",
       "1        0     Yes   817.180407  12106.134700\n",
       "2        0      No  1073.549164  31767.138947\n",
       "3        0      No   529.250605  35704.493935\n",
       "4        0      No   785.655883  38463.495879"
      ]
     },
     "execution_count": 113,
     "metadata": {},
     "output_type": "execute_result"
    }
   ],
   "source": [
    "df['default'] = 1*(df['default'] == 'Yes')\n",
    "df.head()"
   ]
  },
  {
   "cell_type": "code",
   "execution_count": 114,
   "id": "7308d383",
   "metadata": {},
   "outputs": [
    {
     "data": {
      "text/html": [
       "<div>\n",
       "<style scoped>\n",
       "    .dataframe tbody tr th:only-of-type {\n",
       "        vertical-align: middle;\n",
       "    }\n",
       "\n",
       "    .dataframe tbody tr th {\n",
       "        vertical-align: top;\n",
       "    }\n",
       "\n",
       "    .dataframe thead th {\n",
       "        text-align: right;\n",
       "    }\n",
       "</style>\n",
       "<table border=\"1\" class=\"dataframe\">\n",
       "  <thead>\n",
       "    <tr style=\"text-align: right;\">\n",
       "      <th></th>\n",
       "      <th>default</th>\n",
       "      <th>balance</th>\n",
       "      <th>income</th>\n",
       "      <th>student_Yes</th>\n",
       "    </tr>\n",
       "  </thead>\n",
       "  <tbody>\n",
       "    <tr>\n",
       "      <th>0</th>\n",
       "      <td>0</td>\n",
       "      <td>729.526495</td>\n",
       "      <td>44361.625074</td>\n",
       "      <td>0</td>\n",
       "    </tr>\n",
       "    <tr>\n",
       "      <th>1</th>\n",
       "      <td>0</td>\n",
       "      <td>817.180407</td>\n",
       "      <td>12106.134700</td>\n",
       "      <td>1</td>\n",
       "    </tr>\n",
       "    <tr>\n",
       "      <th>2</th>\n",
       "      <td>0</td>\n",
       "      <td>1073.549164</td>\n",
       "      <td>31767.138947</td>\n",
       "      <td>0</td>\n",
       "    </tr>\n",
       "    <tr>\n",
       "      <th>3</th>\n",
       "      <td>0</td>\n",
       "      <td>529.250605</td>\n",
       "      <td>35704.493935</td>\n",
       "      <td>0</td>\n",
       "    </tr>\n",
       "    <tr>\n",
       "      <th>4</th>\n",
       "      <td>0</td>\n",
       "      <td>785.655883</td>\n",
       "      <td>38463.495879</td>\n",
       "      <td>0</td>\n",
       "    </tr>\n",
       "  </tbody>\n",
       "</table>\n",
       "</div>"
      ],
      "text/plain": [
       "   default      balance        income  student_Yes\n",
       "0        0   729.526495  44361.625074            0\n",
       "1        0   817.180407  12106.134700            1\n",
       "2        0  1073.549164  31767.138947            0\n",
       "3        0   529.250605  35704.493935            0\n",
       "4        0   785.655883  38463.495879            0"
      ]
     },
     "execution_count": 114,
     "metadata": {},
     "output_type": "execute_result"
    }
   ],
   "source": [
    "df = pd.get_dummies(df, columns=['student'], drop_first=True)\n",
    "X = df.drop('default', axis=1)\n",
    "y= df['default']\n",
    "df.head()"
   ]
  },
  {
   "cell_type": "code",
   "execution_count": 115,
   "id": "f77de1ae",
   "metadata": {},
   "outputs": [
    {
     "data": {
      "text/plain": [
       "<AxesSubplot:xlabel='balance', ylabel='default'>"
      ]
     },
     "execution_count": 115,
     "metadata": {},
     "output_type": "execute_result"
    },
    {
     "data": {
      "image/png": "[encoded data removed]",
      "text/plain": [
       "<Figure size 864x432 with 1 Axes>"
      ]
     },
     "metadata": {
      "needs_background": "light"
     },
     "output_type": "display_data"
    }
   ],
   "source": [
    "fig, ax =plt.subplots(figsize=(12,6))\n",
    "sns.scatterplot(data=df, x='balance', y='default', ax=ax)"
   ]
  },
  {
   "cell_type": "code",
   "execution_count": 116,
   "id": "6a724216",
   "metadata": {},
   "outputs": [],
   "source": [
    "X_train,X_test,y_train, y_test = train_test_split(X,y, random_state=1, test_size=0.2)"
   ]
  },
  {
   "cell_type": "code",
   "execution_count": 118,
   "id": "5b49df22",
   "metadata": {},
   "outputs": [
    {
     "data": {
      "text/html": [
       "<div>\n",
       "<style scoped>\n",
       "    .dataframe tbody tr th:only-of-type {\n",
       "        vertical-align: middle;\n",
       "    }\n",
       "\n",
       "    .dataframe tbody tr th {\n",
       "        vertical-align: top;\n",
       "    }\n",
       "\n",
       "    .dataframe thead th {\n",
       "        text-align: right;\n",
       "    }\n",
       "</style>\n",
       "<table border=\"1\" class=\"dataframe\">\n",
       "  <thead>\n",
       "    <tr style=\"text-align: right;\">\n",
       "      <th></th>\n",
       "      <th>balance</th>\n",
       "      <th>income</th>\n",
       "      <th>student_Yes</th>\n",
       "    </tr>\n",
       "  </thead>\n",
       "  <tbody>\n",
       "    <tr>\n",
       "      <th>2694</th>\n",
       "      <td>1804.036475</td>\n",
       "      <td>31318.296026</td>\n",
       "      <td>0</td>\n",
       "    </tr>\n",
       "    <tr>\n",
       "      <th>5140</th>\n",
       "      <td>1174.194909</td>\n",
       "      <td>35533.484519</td>\n",
       "      <td>0</td>\n",
       "    </tr>\n",
       "    <tr>\n",
       "      <th>2568</th>\n",
       "      <td>978.652180</td>\n",
       "      <td>25742.119731</td>\n",
       "      <td>0</td>\n",
       "    </tr>\n",
       "    <tr>\n",
       "      <th>3671</th>\n",
       "      <td>548.136289</td>\n",
       "      <td>19501.341068</td>\n",
       "      <td>1</td>\n",
       "    </tr>\n",
       "    <tr>\n",
       "      <th>7427</th>\n",
       "      <td>270.072593</td>\n",
       "      <td>36833.645138</td>\n",
       "      <td>0</td>\n",
       "    </tr>\n",
       "    <tr>\n",
       "      <th>...</th>\n",
       "      <td>...</td>\n",
       "      <td>...</td>\n",
       "      <td>...</td>\n",
       "    </tr>\n",
       "    <tr>\n",
       "      <th>2895</th>\n",
       "      <td>1270.092810</td>\n",
       "      <td>16809.006452</td>\n",
       "      <td>1</td>\n",
       "    </tr>\n",
       "    <tr>\n",
       "      <th>7813</th>\n",
       "      <td>1598.020831</td>\n",
       "      <td>39163.361056</td>\n",
       "      <td>0</td>\n",
       "    </tr>\n",
       "    <tr>\n",
       "      <th>905</th>\n",
       "      <td>1234.476479</td>\n",
       "      <td>31313.374575</td>\n",
       "      <td>0</td>\n",
       "    </tr>\n",
       "    <tr>\n",
       "      <th>5192</th>\n",
       "      <td>0.000000</td>\n",
       "      <td>29322.631394</td>\n",
       "      <td>0</td>\n",
       "    </tr>\n",
       "    <tr>\n",
       "      <th>235</th>\n",
       "      <td>964.820253</td>\n",
       "      <td>34390.746035</td>\n",
       "      <td>0</td>\n",
       "    </tr>\n",
       "  </tbody>\n",
       "</table>\n",
       "<p>8000 rows × 3 columns</p>\n",
       "</div>"
      ],
      "text/plain": [
       "          balance        income  student_Yes\n",
       "2694  1804.036475  31318.296026            0\n",
       "5140  1174.194909  35533.484519            0\n",
       "2568   978.652180  25742.119731            0\n",
       "3671   548.136289  19501.341068            1\n",
       "7427   270.072593  36833.645138            0\n",
       "...           ...           ...          ...\n",
       "2895  1270.092810  16809.006452            1\n",
       "7813  1598.020831  39163.361056            0\n",
       "905   1234.476479  31313.374575            0\n",
       "5192     0.000000  29322.631394            0\n",
       "235    964.820253  34390.746035            0\n",
       "\n",
       "[8000 rows x 3 columns]"
      ]
     },
     "execution_count": 118,
     "metadata": {},
     "output_type": "execute_result"
    }
   ],
   "source": [
    "X_train"
   ]
  },
  {
   "cell_type": "markdown",
   "id": "b73ba955",
   "metadata": {},
   "source": [
    "### Predicting with linear regression"
   ]
  },
  {
   "cell_type": "code",
   "execution_count": 119,
   "id": "490979e3",
   "metadata": {},
   "outputs": [],
   "source": [
    "linear_model = LinearRegression()\n",
    "linear_model.fit(X_train[['balance']], y_train)\n",
    "\n",
    "#predict on training \n",
    "y_pred_train = linear_model.predict(X_train[[\"balance\"]])\n",
    "\n",
    "#predict on test\n",
    "y_pred_test = linear_model.predict(X_test[[\"balance\"]])\n",
    "\n"
   ]
  },
  {
   "cell_type": "code",
   "execution_count": 120,
   "id": "717b4ab7",
   "metadata": {},
   "outputs": [
    {
     "data": {
      "image/png": "[encoded data removed]",
      "text/plain": [
       "<Figure size 1008x432 with 1 Axes>"
      ]
     },
     "metadata": {
      "needs_background": "light"
     },
     "output_type": "display_data"
    }
   ],
   "source": [
    "fig, axes = plt.subplots(figsize=(14,6))\n",
    "axes.plot(df[\"balance\"],df['default'], \"o\" ,alpha =0.4)\n",
    "axes.plot(df['balance'], linear_model.predict(df[['balance']]))\n",
    "axes.set_xlabel(\"balance\")\n",
    "axes.set_ylabel(\"default\")\n",
    "axes.set_title(\"balance vs default\")\n",
    "plt.show()"
   ]
  },
  {
   "cell_type": "markdown",
   "id": "cbe00014",
   "metadata": {},
   "source": [
    "### Logistic Regression"
   ]
  },
  {
   "cell_type": "code",
   "execution_count": 121,
   "id": "6ffa2080",
   "metadata": {},
   "outputs": [
    {
     "name": "stdout",
     "output_type": "stream",
     "text": [
      "0    9667\n",
      "1     333\n",
      "Name: default, dtype: int64\n",
      "Naive accuracy is: 0.9667\n"
     ]
    }
   ],
   "source": [
    "### Naive model\n",
    "\n",
    "print(df['default'].value_counts())\n",
    "\n",
    "naive_accuracy = df['default'].value_counts()[0]/ len(df['default'])\n",
    "\n",
    "print(f\"Naive accuracy is: {naive_accuracy:.4f}\")\n",
    "\n"
   ]
  },
  {
   "cell_type": "code",
   "execution_count": 124,
   "id": "73efdea2",
   "metadata": {},
   "outputs": [
    {
     "name": "stdout",
     "output_type": "stream",
     "text": [
      "The accuracy for this model on test is 97.4500\n",
      "The accuracy for this model on train is 97.1500\n"
     ]
    }
   ],
   "source": [
    "logit_model = LogisticRegression(penalty='none')\n",
    "logit_model.fit(X_train[['balance']], y_train)\n",
    "\n",
    "#predict on training \n",
    "y_pred_train = logit_model.predict(X_train[[\"balance\"]])\n",
    "\n",
    "#predict on test\n",
    "y_pred_test = logit_model.predict(X_test[[\"balance\"]])\n",
    "y_train_prob = logit_model.predict_proba(X_train[[\"balance\"]])\n",
    "accuracy = logit_model.score(X_test[['balance']],y_test)\n",
    "accuracy_train = logit_model.score(X_train[['balance']],y_train)\n",
    "\n",
    "print(f'The accuracy for this model on test is {accuracy*100:.4f}')\n",
    "print(f'The accuracy for this model on train is {accuracy_train*100:.4f}')\n"
   ]
  },
  {
   "cell_type": "code",
   "execution_count": 128,
   "id": "eee7d716",
   "metadata": {},
   "outputs": [
    {
     "data": {
      "text/plain": [
       "array([[6.53328649e-01, 3.46671351e-01],\n",
       "       [9.86118497e-01, 1.38815029e-02],\n",
       "       [9.95458975e-01, 4.54102524e-03],\n",
       "       [9.99618469e-01, 3.81531333e-04],\n",
       "       [9.99923129e-01, 7.68712339e-05],\n",
       "       [9.32730182e-01, 6.72698177e-02],\n",
       "       [9.19445796e-01, 8.05542038e-02],\n",
       "       [9.99698854e-01, 3.01146465e-04],\n",
       "       [9.98735552e-01, 1.26444758e-03],\n",
       "       [9.95851251e-01, 4.14874926e-03]])"
      ]
     },
     "execution_count": 128,
     "metadata": {},
     "output_type": "execute_result"
    }
   ],
   "source": [
    "y_train_prob = logit_model.predict_proba(X_train[[\"balance\"]])\n",
    "y_train_prob[:10,]"
   ]
  },
  {
   "cell_type": "code",
   "execution_count": 125,
   "id": "9f0bdcdf",
   "metadata": {},
   "outputs": [
    {
     "data": {
      "image/png": "[encoded data removed]",
      "text/plain": [
       "<Figure size 1008x432 with 1 Axes>"
      ]
     },
     "metadata": {
      "needs_background": "light"
     },
     "output_type": "display_data"
    }
   ],
   "source": [
    "fig, axes = plt.subplots(figsize=(14,6))\n",
    "\n",
    "x=np.linspace(np.min(df[['balance']]),np.max(df[['balance']])+10,200)\n",
    "\n",
    "yhat_class_logit = logit_model.predict(x)\n",
    "yhat_prob_logit = logit_model.predict_proba(x)[:,1]\n",
    "\n",
    "# plot the observed data\n",
    "axes.plot(X_train['balance'], y_train, 'o' ,alpha=0.1, label='Train Data')\n",
    "axes.plot(X_test['balance'], 0.94*y_test+0.03, 'o' ,alpha=0.1, label='Test Data')\n",
    "\n",
    "# plot the predictions\n",
    "axes.plot(x, yhat_class_logit, label='logit_model Classifications')\n",
    "axes.plot(x, yhat_prob_logit, label='logit_model Probabilities')\n",
    "axes.set_title(\"balance vs default\")\n",
    "plt.legend(loc='best')\n",
    "axes.set_xlabel(\"balance\")\n",
    "axes.set_ylabel(\"default\")\n",
    "\n",
    "plt.show()\n",
    "\n",
    "\n"
   ]
  },
  {
   "cell_type": "markdown",
   "id": "5fa7a212",
   "metadata": {},
   "source": [
    "$$y = \\beta_0 + \\beta_1 X_1 + \\dots + \\beta_p X_p $$"
   ]
  },
  {
   "cell_type": "markdown",
   "id": "bd872c30",
   "metadata": {},
   "source": [
    "### Predictions"
   ]
  },
  {
   "cell_type": "code",
   "execution_count": 129,
   "id": "3cc424ec",
   "metadata": {},
   "outputs": [
    {
     "data": {
      "text/plain": [
       "array([[0.00576259]])"
      ]
     },
     "execution_count": 129,
     "metadata": {},
     "output_type": "execute_result"
    }
   ],
   "source": [
    "logit_model.coef_"
   ]
  },
  {
   "cell_type": "code",
   "execution_count": 130,
   "id": "6e2af52b",
   "metadata": {},
   "outputs": [
    {
     "data": {
      "text/plain": [
       "array([-11.02961851])"
      ]
     },
     "execution_count": 130,
     "metadata": {},
     "output_type": "execute_result"
    }
   ],
   "source": [
    "logit_model.intercept_"
   ]
  },
  {
   "cell_type": "markdown",
   "id": "817a0275",
   "metadata": {},
   "source": [
    "$$ P(Y=1 | x=2000;\\beta) = \\frac{1}{ 1 + e^(-(-11.00296  +.0.005762*balance))} $$"
   ]
  },
  {
   "cell_type": "code",
   "execution_count": 101,
   "id": "13a3b9fa",
   "metadata": {},
   "outputs": [
    {
     "name": "stdout",
     "output_type": "stream",
     "text": [
      "probability of defaulting is  :0.62 \n"
     ]
    }
   ],
   "source": [
    "import math\n",
    "b0 = logit_model.intercept_\n",
    "b1 = logit_model.coef_\n",
    "\n",
    "z = -1*(b0+2000*b1) \n",
    "\n",
    "y = 1 / (1+(math.exp(z)))\n",
    "print(f'probability of defaulting is  :{y:.2f} ')"
   ]
  },
  {
   "cell_type": "code",
   "execution_count": 131,
   "id": "a0f87e9d",
   "metadata": {},
   "outputs": [],
   "source": [
    "from sklearn.metrics import (\n",
    "    accuracy_score, confusion_matrix, roc_curve, roc_auc_score\n",
    ")            "
   ]
  },
  {
   "cell_type": "code",
   "execution_count": 132,
   "id": "af692019",
   "metadata": {},
   "outputs": [
    {
     "name": "stdout",
     "output_type": "stream",
     "text": [
      "Confusion matrix for Caucasian:\n",
      "[[1930   11]\n",
      " [  40   19]]\n"
     ]
    }
   ],
   "source": [
    "cf_matrix_caucasian = confusion_matrix(y_test, y_pred_test)\n",
    "print(\"Confusion matrix for Caucasian:\")\n",
    "print(cf_matrix_caucasian)"
   ]
  },
  {
   "cell_type": "code",
   "execution_count": 134,
   "id": "b6947dea",
   "metadata": {},
   "outputs": [
    {
     "data": {
      "text/plain": [
       "0.9745"
      ]
     },
     "execution_count": 134,
     "metadata": {},
     "output_type": "execute_result"
    }
   ],
   "source": [
    "(cf_matrix_caucasian[0][0]+ cf_matrix_caucasian[1][1])/ (len(y_test))"
   ]
  },
  {
   "cell_type": "code",
   "execution_count": null,
   "id": "64a32960",
   "metadata": {},
   "outputs": [],
   "source": []
  }
 ],
 "metadata": {
  "kernelspec": {
   "display_name": "Python 3 (ipykernel)",
   "language": "python",
   "name": "python3"
  },
  "language_info": {
   "codemirror_mode": {
    "name": "ipython",
    "version": 3
   },
   "file_extension": ".py",
   "mimetype": "text/x-python",
   "name": "python",
   "nbconvert_exporter": "python",
   "pygments_lexer": "ipython3",
   "version": "3.9.7"
  }
 },
 "nbformat": 4,
 "nbformat_minor": 5
}
