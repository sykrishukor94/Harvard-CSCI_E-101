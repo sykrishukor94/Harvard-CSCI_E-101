{
 "cells": [
  {
   "cell_type": "code",
   "execution_count": null,
   "metadata": {},
   "outputs": [],
   "source": [
    "# needed for connecting to MySQL\n",
    "import pandas as pd\n",
    "%matplotlib inline\n",
    "\n",
    "# need for regression analysis\n",
    "from statsmodels.formula.api import ols\n",
    "\n",
    "# VIF for Multicollinearity Testing\n",
    "from statsmodels.stats.outliers_influence import variance_inflation_factor\n",
    "\n",
    "# read data from excel to dataframe variable\n",
    "df = pd.read_excel(\"footballpunts.xlsx\")\n",
    "\n"
   ]
  },
  {
   "cell_type": "code",
   "execution_count": null,
   "metadata": {},
   "outputs": [],
   "source": [
    "results = ols (\"Distance ~ Hang + R_Strength\", data=df).fit()\n",
    "print(results.summary())"
   ]
  },
  {
   "cell_type": "code",
   "execution_count": null,
   "metadata": {},
   "outputs": [],
   "source": [
    "df.corr()"
   ]
  },
  {
   "cell_type": "code",
   "execution_count": null,
   "metadata": {},
   "outputs": [],
   "source": [
    "from statsmodels.tools.tools import add_constant\n",
    "df = add_constant(df)\n",
    "df.head(3)"
   ]
  },
  {
   "cell_type": "code",
   "execution_count": null,
   "metadata": {},
   "outputs": [],
   "source": [
    "VIFvalue=variance_inflation_factor(df.values, 2)\n",
    "print (VIFvalue)"
   ]
  },
  {
   "cell_type": "code",
   "execution_count": null,
   "metadata": {},
   "outputs": [],
   "source": [
    "for i in range(len(df.columns)):\n",
    "    print(variance_inflation_factor(df.values, i))\n",
    "    "
   ]
  },
  {
   "cell_type": "markdown",
   "metadata": {},
   "source": [
    "    feature         VIF\n",
    "      Distance  190.024774\n",
    "          Hang  564.977955\n",
    "    R_Strength  290.665652\n",
    "    L_Strength  339.450969\n",
    "    R_Flexibility  706.687876\n",
    "    L_Flexibility  307.966461\n",
    "    O_Strength     71.248816"
   ]
  },
  {
   "cell_type": "code",
   "execution_count": null,
   "metadata": {},
   "outputs": [],
   "source": [
    "VIFdf = pd.DataFrame()\n",
    "VIFdf[\"X_Variables\"] = df.columns\n",
    "  \n",
    "VIFdf[\"VIF_Values\"] = [variance_inflation_factor(df.values, i)\n",
    "                          for i in range(len(df.columns))]\n",
    " \n",
    "print(VIFdf)"
   ]
  },
  {
   "cell_type": "code",
   "execution_count": null,
   "metadata": {},
   "outputs": [],
   "source": [
    "VIFdf = pd.DataFrame()\n",
    "VIFdf[\"X_Variables\"] = df.columns\n",
    "  \n",
    "VIFdf[\"VIF_Values\"] = [variance_inflation_factor(df.values, i)\n",
    "                          for i in range(len(df.columns))]\n",
    "\n",
    "VIFdf = VIFdf.drop(labels=range(0,2), axis = 0)\n",
    "\n",
    "  \n",
    "print(VIFdf)"
   ]
  }
 ],
 "metadata": {
  "kernelspec": {
   "display_name": "Python 3 (ipykernel)",
   "language": "python",
   "name": "python3"
  },
  "language_info": {
   "codemirror_mode": {
    "name": "ipython",
    "version": 3
   },
   "file_extension": ".py",
   "mimetype": "text/x-python",
   "name": "python",
   "nbconvert_exporter": "python",
   "pygments_lexer": "ipython3",
   "version": "3.9.7"
  }
 },
 "nbformat": 4,
 "nbformat_minor": 2
}
