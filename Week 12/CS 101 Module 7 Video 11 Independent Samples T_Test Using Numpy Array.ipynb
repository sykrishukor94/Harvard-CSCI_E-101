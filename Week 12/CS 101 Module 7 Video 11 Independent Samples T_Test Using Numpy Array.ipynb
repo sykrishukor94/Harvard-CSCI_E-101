{
 "cells": [
  {
   "cell_type": "markdown",
   "metadata": {},
   "source": [
    "### Numpy Array Reshape and Independent Samples T-Test"
   ]
  },
  {
   "cell_type": "code",
   "execution_count": null,
   "metadata": {},
   "outputs": [],
   "source": [
    "# read Excel or CSV File\n",
    "import pandas as pd\n",
    "\n",
    "# Store Columns as Arrays\n",
    "import numpy as np\n",
    "\n",
    "# Perform Independent-Samples T-Test \n",
    "from scipy.stats import ttest_ind"
   ]
  },
  {
   "cell_type": "code",
   "execution_count": null,
   "metadata": {},
   "outputs": [],
   "source": [
    "# Load sample data file\n",
    "\n",
    "df = pd.read_csv (\"Huang Class Differences 2 samples.csv\")"
   ]
  },
  {
   "cell_type": "code",
   "execution_count": null,
   "metadata": {},
   "outputs": [],
   "source": [
    "df.head(3)"
   ]
  },
  {
   "cell_type": "code",
   "execution_count": null,
   "metadata": {},
   "outputs": [],
   "source": [
    "# Convert df to Numpy Array\n",
    "\n",
    "ScoreArray=np.array(df[\"Score\"])"
   ]
  },
  {
   "cell_type": "code",
   "execution_count": null,
   "metadata": {},
   "outputs": [],
   "source": [
    "print(ScoreArray)\n",
    "print(ScoreArray.shape)\n",
    "    \n"
   ]
  },
  {
   "cell_type": "code",
   "execution_count": null,
   "metadata": {},
   "outputs": [],
   "source": [
    "# Reshape Numpy Array\n",
    "\n",
    "ScoreArr = ScoreArray.reshape(2,20) \n"
   ]
  },
  {
   "cell_type": "code",
   "execution_count": null,
   "metadata": {},
   "outputs": [],
   "source": [
    "print(ScoreArr)"
   ]
  },
  {
   "cell_type": "code",
   "execution_count": null,
   "metadata": {},
   "outputs": [],
   "source": [
    "# Determine Equal Variance by testing if (the Larger Stand Deviation / the smaller Standard Deviation) > 2\n",
    "# Assume equal variance unless (the Larger Stand Deviation / the smaller Standard Deviation) > 2\n",
    "\n",
    "EqualVar = True\n",
    "if ScoreArr[0].std() > ScoreArr[1].std():\n",
    "    if (ScoreArr[0].std() / ScoreArr[1]) > 2:\n",
    "        EqualVar = False\n",
    "else:\n",
    "    if (ScoreArr[1].std() / ScoreArr[0].std()) > 2:\n",
    "        EqualVar = False"
   ]
  },
  {
   "cell_type": "code",
   "execution_count": null,
   "metadata": {},
   "outputs": [],
   "source": [
    "# Obtain T-Stat and Pvalue \n",
    "SampleT = ttest_ind(ScoreArr[0], ScoreArr[1], equal_var=EqualVar)      \n",
    "print (SampleT)"
   ]
  },
  {
   "cell_type": "code",
   "execution_count": null,
   "metadata": {},
   "outputs": [],
   "source": [
    "SampleT.pvalue"
   ]
  }
 ],
 "metadata": {
  "kernelspec": {
   "display_name": "Python 3",
   "language": "python",
   "name": "python3"
  },
  "language_info": {
   "codemirror_mode": {
    "name": "ipython",
    "version": 3
   },
   "file_extension": ".py",
   "mimetype": "text/x-python",
   "name": "python",
   "nbconvert_exporter": "python",
   "pygments_lexer": "ipython3",
   "version": "3.8.3"
  }
 },
 "nbformat": 4,
 "nbformat_minor": 2
}
