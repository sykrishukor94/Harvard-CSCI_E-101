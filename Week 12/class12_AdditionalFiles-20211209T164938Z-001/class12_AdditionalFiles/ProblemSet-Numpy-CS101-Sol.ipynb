{
 "cells": [
  {
   "cell_type": "markdown",
   "id": "8805702d",
   "metadata": {},
   "source": [
    "# Numpy excercise - CS 101 - Section"
   ]
  },
  {
   "cell_type": "markdown",
   "id": "bb51d044",
   "metadata": {},
   "source": [
    "\n",
    "A linear equation is of the form $y = b + ax$ \n",
    "\n",
    "where a is most commonly known as slope, and b as intercept. For this excercise consider a linear equation:\n",
    "\n",
    "$ y = 32 + 1.8 x $ \n",
    "\n",
    "which you may recognize as the function to convert temperature from Celsius to Fahrenheit. \n",
    "\n"
   ]
  },
  {
   "cell_type": "markdown",
   "id": "6a9ebd2e",
   "metadata": {},
   "source": [
    "### Problem 1\n",
    "\n",
    "for all problems assume array is a numpy array.\n",
    "\n",
    "a. create a 20 random values between 10 to 40 and store it in a numpy array variable x.\n",
    "use the random.randint  function https://numpy.org/doc/stable/reference/random/generated/numpy.random.randint.html\n",
    "\n",
    "\n",
    "b. create a function called calc_linear() that takes a parameter x , and returns array of values calculated using the function $ y = 32 + 1.8 x $ . \n",
    "\n",
    "c. call the function created above and store the returned array in to a variable called y_true\n",
    "\n",
    "\n",
    "d. create a new array, and call it y_avg. This array should be the same length as y_true, and each element should be the avg value of y_true. \n",
    "\n",
    "\n",
    "Now, we will do some array arithmetic. \n",
    "\n",
    "e. create an array y_pred by passing x to calc_linear2. This is done for you. No need to do anything\n",
    "\n",
    "Now, we will do some vector arithmetic in numpy\n",
    "\n",
    "f.calculate the difference of y_true and y_pred, and store the results in a variable called residuals. Note: residuals will be an array.\n",
    "\n",
    " \n",
    "g. Sum the square of residuals , and store it it a variable called sum_squared_error(sse). i.e.\n",
    "\n",
    "$$\\sum{residuals_{i}^{2}}$$ \n",
    "\n",
    "where i=0 to length of residuals\n",
    "\n",
    "\n",
    "h. Now calculate the average of sum_squared_residuals(mse) using the formula \n",
    "\n",
    "$$ \\frac{1}{n} sumsquarederror$$\n",
    "\n",
    "store this value in a variable called mean_squared_error \n",
    "\n",
    "\n",
    "i. do the calculation using the formula  \n",
    "\n",
    "$$ \\sum{(y_{true} - y_{avg})^2}$$\n",
    "\n",
    "and store it in a variable called sum_squared_total (sst)\n",
    "\n",
    "j. calculate r_squared using the formula  $$ R^2 = 1 - \\frac{sse}{sst} $$\n",
    "\n"
   ]
  },
  {
   "cell_type": "code",
   "execution_count": 1,
   "id": "9f9f0fe8",
   "metadata": {},
   "outputs": [],
   "source": [
    "import numpy as np\n",
    "import pandas as pd"
   ]
  },
  {
   "cell_type": "code",
   "execution_count": 2,
   "id": "306b8dc3",
   "metadata": {},
   "outputs": [],
   "source": [
    "#leave this code as is, don't modify\n",
    "def calc_linear2(x):\n",
    "    y = np.empty(x.shape[0])\n",
    "    for i in range(x.shape[0]):\n",
    "        y[i] = 32 + 2.1 * x[i]\n",
    "    \n",
    "    return y"
   ]
  },
  {
   "cell_type": "code",
   "execution_count": 3,
   "id": "05858330",
   "metadata": {},
   "outputs": [
    {
     "name": "stdout",
     "output_type": "stream",
     "text": [
      "Sum Squared Error is 1426.1400\n",
      "Mean Squared Error is 71.3070\n",
      "Sum Squared Total is 6178.0320\n",
      "R^2 is 0.7692\n"
     ]
    }
   ],
   "source": [
    "#a. \n",
    "#your code here\n",
    "np.random.seed(10)\n",
    "\n",
    "x = np.random.randint(10 ,41 ,size=20)\n",
    "\n",
    "\n",
    "#b. \n",
    "#your code here\n",
    "\n",
    "def calc_linear(x):\n",
    "    y = np.empty(x.shape[0])\n",
    "    for i in range(x.shape[0]):\n",
    "        y[i] = 32 + 1.8 * x[i]\n",
    "    \n",
    "    return y\n",
    "    \n",
    "\n",
    "\n",
    "#c. \n",
    "#your code here\n",
    "y_true = calc_linear(x)\n",
    "    \n",
    "\n",
    "#d. \n",
    "#your code here\n",
    "\n",
    "y_avg = np.array([np.mean(y_true)  for i in range(y_true.shape[0])] )\n",
    "\n",
    "\n",
    "#e. \n",
    "#your code here\n",
    "\n",
    "y_pred = calc_linear2(x)\n",
    "\n",
    "\n",
    "#f. \n",
    "#your code here\n",
    "residuals = y_true - y_pred\n",
    "\n",
    "#g. \n",
    "#your code here\n",
    "sum_squared_error = np.sum(residuals**2)\n",
    "print(f'Sum Squared Error is {sum_squared_error:.4f}')\n",
    "\n",
    "#h. \n",
    "#your code here\n",
    "mean_squared_error= (1/y_true.shape[0])*sum_squared_error\n",
    "print(f'Mean Squared Error is {mean_squared_error:.4f}')\n",
    "\n",
    "#i. \n",
    "#your code here\n",
    "\n",
    "sum_squared_total = np.sum((y_true-y_avg)**2 )\n",
    "print(f'Sum Squared Total is {sum_squared_total:.4f}')\n",
    "\n",
    "#j. \n",
    "#your code here\n",
    "r_squared = 1- (sum_srquared_eror/sum_squared_total)\n",
    "print(f'R^2 is {r_squared:.4f}')"
   ]
  },
  {
   "cell_type": "markdown",
   "id": "834e4a43",
   "metadata": {},
   "source": [
    "### Let's visualize what we have done \n",
    "\n",
    "Run the cell below one by one"
   ]
  },
  {
   "cell_type": "code",
   "execution_count": 4,
   "id": "b8c89c7b",
   "metadata": {},
   "outputs": [
    {
     "data": {
      "text/plain": [
       "Text(0.5, 1.0, 'Celsius vs Fahrenheit')"
      ]
     },
     "execution_count": 4,
     "metadata": {},
     "output_type": "execute_result"
    },
    {
     "data": {
      "image/png": "[encoded data removed]",
      "text/plain": [
       "<Figure size 576x288 with 1 Axes>"
      ]
     },
     "metadata": {
      "needs_background": "light"
     },
     "output_type": "display_data"
    }
   ],
   "source": [
    "import matplotlib.pyplot as plt\n",
    "\n",
    "fig, axes = plt.subplots(figsize=(8,4))\n",
    "axes.plot(x,y_true, \"o\" ,alpha =0.4)\n",
    "axes.set_xlabel(\"Celsius\")\n",
    "axes.set_ylabel(\"Fahrenheit\")\n",
    "axes.set_title(\"Celsius vs Fahrenheit\")\n"
   ]
  },
  {
   "cell_type": "code",
   "execution_count": 5,
   "id": "6c38040a",
   "metadata": {},
   "outputs": [
    {
     "data": {
      "text/plain": [
       "Text(0.5, 1.0, 'Celsius vs Fahrenheit with y_true')"
      ]
     },
     "execution_count": 5,
     "metadata": {},
     "output_type": "execute_result"
    },
    {
     "data": {
      "image/png": "[encoded data removed]",
      "text/plain": [
       "<Figure size 576x288 with 1 Axes>"
      ]
     },
     "metadata": {
      "needs_background": "light"
     },
     "output_type": "display_data"
    }
   ],
   "source": [
    "fig, axes = plt.subplots(figsize=(8,4))\n",
    "a =np.linspace(x.min(), x.max(), 100)\n",
    "axes.plot(x,y_true, \"o\" ,alpha =0.4)\n",
    "axes.plot(a,calc_linear(a),color='Black', label=\"y_true\" )\n",
    "\n",
    "axes.set_xlabel(\"Celsius\")\n",
    "axes.set_ylabel(\"Fahrenheit\")\n",
    "axes.set_title(\"Celsius vs Fahrenheit with y_true\")"
   ]
  },
  {
   "cell_type": "code",
   "execution_count": 6,
   "id": "25db7dfc",
   "metadata": {},
   "outputs": [
    {
     "data": {
      "text/plain": [
       "Text(0.5, 1.0, 'Celsius vs Fahrenheit with y_avg')"
      ]
     },
     "execution_count": 6,
     "metadata": {},
     "output_type": "execute_result"
    },
    {
     "data": {
      "image/png": "[encoded data removed]",
      "text/plain": [
       "<Figure size 576x288 with 1 Axes>"
      ]
     },
     "metadata": {
      "needs_background": "light"
     },
     "output_type": "display_data"
    }
   ],
   "source": [
    "fig, axes = plt.subplots(figsize=(8,4))\n",
    "axes.plot(x,y_true, \"o\" ,alpha =0.4)\n",
    "axes.plot(x,y_avg,color='Black', label=\"y_true\" )\n",
    "\n",
    "axes.set_xlabel(\"Celsius\")\n",
    "axes.set_ylabel(\"Fahrenheit\")\n",
    "axes.set_title(\"Celsius vs Fahrenheit with y_avg\")"
   ]
  },
  {
   "cell_type": "code",
   "execution_count": 7,
   "id": "43963ab5",
   "metadata": {},
   "outputs": [
    {
     "data": {
      "text/plain": [
       "Text(0.5, 1.0, 'Celsius vs Fahrenheit with y_pred')"
      ]
     },
     "execution_count": 7,
     "metadata": {},
     "output_type": "execute_result"
    },
    {
     "data": {
      "image/png": "[encoded data removed]",
      "text/plain": [
       "<Figure size 576x288 with 1 Axes>"
      ]
     },
     "metadata": {
      "needs_background": "light"
     },
     "output_type": "display_data"
    }
   ],
   "source": [
    "fig, axes = plt.subplots(figsize=(8,4))\n",
    "axes.plot(x,y_true, \"o\" ,alpha =0.4)\n",
    "axes.plot(x,y_pred,color='Black', label=\"y_true\" )\n",
    "\n",
    "axes.set_xlabel(\"Celsius\")\n",
    "axes.set_ylabel(\"Fahrenheit\")\n",
    "axes.set_title(\"Celsius vs Fahrenheit with y_pred\")"
   ]
  },
  {
   "cell_type": "code",
   "execution_count": null,
   "id": "44ebdf04",
   "metadata": {},
   "outputs": [],
   "source": []
  }
 ],
 "metadata": {
  "kernelspec": {
   "display_name": "Python 3 (ipykernel)",
   "language": "python",
   "name": "python3"
  },
  "language_info": {
   "codemirror_mode": {
    "name": "ipython",
    "version": 3
   },
   "file_extension": ".py",
   "mimetype": "text/x-python",
   "name": "python",
   "nbconvert_exporter": "python",
   "pygments_lexer": "ipython3",
   "version": "3.9.7"
  }
 },
 "nbformat": 4,
 "nbformat_minor": 5
}
