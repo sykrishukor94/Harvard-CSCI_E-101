{
 "cells": [
  {
   "cell_type": "markdown",
   "id": "7dcba8a9",
   "metadata": {},
   "source": [
    "# Numpy excercise - CS 101 - Section\n",
    "\n",
    "### Please note that there are some visualizations using matplotlib. This is not required for the class, it is for illustration purposes only.\n"
   ]
  },
  {
   "cell_type": "markdown",
   "id": "0b0f0220",
   "metadata": {},
   "source": [
    "\n",
    "A linear equation is of the form $y = b + ax$ \n",
    "\n",
    "where a is most commonly known as slope, and b as intercept. For this excercise consider a linear equation:\n",
    "\n",
    "$ y = 32 + 1.8 x $ \n",
    "\n",
    "which you may recognize as the function to convert temperature from Celsius to Fahrenheit. \n",
    "\n"
   ]
  },
  {
   "cell_type": "markdown",
   "id": "2357f22a",
   "metadata": {},
   "source": [
    "### Problem 1\n",
    "\n",
    "for all problems assume array is a numpy array.\n",
    "\n",
    "a. create a 20 random values between 10 to 40 and store it in a numpy array variable x.\n",
    "use the random.randint  function https://numpy.org/doc/stable/reference/random/generated/numpy.random.randint.html\n",
    "\n",
    "\n",
    "b. create a function called calc_linear() that takes a parameter x , and returns array of values calculated using the function $ y = 32 + 1.8 x $ . \n",
    "\n",
    "c. call the function created above and store the returned array in to a variable called y_true\n",
    "\n",
    "\n",
    "d. create a new array, and call it y_avg. This array should be the same length as y_true, and each element should be the avg value of y_true. \n",
    "\n",
    "\n",
    "\n",
    "e. create an array y_pred by passing x to calc_linear2. This is done for you. No need to do anything. Try noticing the difference between the function you created vs calc_linear2\n",
    "\n",
    "Now, we will do some vector arithmetic in numpy\n",
    "\n",
    "f.calculate the difference of y_true and y_pred, and store the results in a variable called residuals. Note: residuals will be an array.\n",
    "\n",
    " \n",
    "g. Sum the square of residuals , and store it it a variable called sum_squared_error(sse). i.e.\n",
    "\n",
    "$$\\sum{residuals^{2}}$$ \n",
    "\n",
    "\n",
    "\n",
    "\n",
    "h. Now calculate the average of sum_squared_residuals(mse) using the formula \n",
    "\n",
    "$$ \\frac{sumsquarederror}{n} $$\n",
    "\n",
    "where n is the total observations i.e. len(y_true)\n",
    "\n",
    "store this value in a variable called mean_squared_error \n",
    "\n",
    "\n",
    "i. do the calculation using the formula  \n",
    "\n",
    "$$ \\sum{(y_{true} - y_{avg})^2}$$\n",
    "\n",
    "and store it in a variable called sum_squared_total (sst)\n",
    "\n",
    "j. calculate r_squared using the formula  $$ R^2 = 1 - \\frac{sse}{sst} $$\n",
    "\n"
   ]
  },
  {
   "cell_type": "code",
   "execution_count": null,
   "id": "fd4619e2",
   "metadata": {},
   "outputs": [],
   "source": [
    "import numpy as np\n",
    "import pandas as pd"
   ]
  },
  {
   "cell_type": "code",
   "execution_count": null,
   "id": "bcfeaca7",
   "metadata": {},
   "outputs": [],
   "source": [
    "#leave this code as is, don't modify\n",
    "def calc_linear2(x):\n",
    "    y = np.empty(x.shape[0])\n",
    "    for i in range(x.shape[0]):\n",
    "        y[i] = 32 + 2.1 * x[i]\n",
    "    \n",
    "    return y"
   ]
  },
  {
   "cell_type": "code",
   "execution_count": null,
   "id": "d85461f8",
   "metadata": {},
   "outputs": [],
   "source": [
    "#a. \n",
    "#your code here\n",
    "np.random.seed(10)\n",
    "\n",
    "x = np.random.randint(__ ,__ ,__)\n",
    "\n",
    "\n",
    "#b. \n",
    "#your code here\n",
    "\n",
    "def calc_linear(x):\n",
    "     \n",
    "    return y\n",
    "    \n",
    "\n",
    "\n",
    "#c. \n",
    "#your code here\n",
    "y_true = \n",
    "    \n",
    "\n",
    "#d. \n",
    "#your code here. Use list comprehension for this\n",
    "\n",
    "y_avg = np.array([ ___ for i in range(___)] )\n",
    "\n",
    "\n",
    "#e. \n",
    "#This is done for you\n",
    "\n",
    "y_pred = calc_linear2(x)\n",
    "\n",
    "\n",
    "#f. \n",
    "#your code here\n",
    "residuals = _____\n",
    "\n",
    "#g. \n",
    "#your code here\n",
    "sum_squared_error = ___\n",
    "print(f'Sum Squared Error is {sum_squared_error:.4f}')\n",
    "\n",
    "#h. \n",
    "#your code here\n",
    "mean_squared_error= _____\n",
    "print(f'Mean Squared Error is {mean_squared_error:.4f}')\n",
    "\n",
    "#i. \n",
    "#your code here\n",
    "\n",
    "sum_squared_total = _____\n",
    "print(f'Sum Squared Total is {sum_squared_total:.4f}')\n",
    "\n",
    "#j. \n",
    "#your code here\n",
    "r_squared = _______\n",
    "print(f'R^2 is {r_squared:.4f}')"
   ]
  },
  {
   "cell_type": "markdown",
   "id": "b9cdc425",
   "metadata": {},
   "source": [
    "### Let's visualize what we have done \n",
    "\n",
    "Run the cell below one by one"
   ]
  },
  {
   "cell_type": "code",
   "execution_count": null,
   "id": "5142ed1f",
   "metadata": {},
   "outputs": [],
   "source": [
    "import matplotlib.pyplot as plt\n",
    "\n",
    "fig, axes = plt.subplots(figsize=(8,4))\n",
    "axes.plot(x,y_true, \"o\" ,alpha =0.4)\n",
    "axes.set_xlabel(\"Celsius\")\n",
    "axes.set_ylabel(\"Fahrenheit\")\n",
    "axes.set_title(\"Celsius vs Fahrenheit\")\n"
   ]
  },
  {
   "cell_type": "code",
   "execution_count": null,
   "id": "9ffaf1af",
   "metadata": {},
   "outputs": [],
   "source": [
    "fig, axes = plt.subplots(figsize=(8,4))\n",
    "a =np.linspace(x.min(), x.max(), 100)\n",
    "axes.plot(x,y_true, \"o\" ,alpha =0.4)\n",
    "axes.plot(a,calc_linear(a),color='Black', label=\"y_true\" )\n",
    "\n",
    "axes.set_xlabel(\"Celsius\")\n",
    "axes.set_ylabel(\"Fahrenheit\")\n",
    "axes.set_title(\"Celsius vs Fahrenheit with y_true\")"
   ]
  },
  {
   "cell_type": "code",
   "execution_count": null,
   "id": "83e86ed9",
   "metadata": {},
   "outputs": [],
   "source": [
    "fig, axes = plt.subplots(figsize=(8,4))\n",
    "axes.plot(x,y_true, \"o\" ,alpha =0.4)\n",
    "axes.plot(x,y_avg,color='Black', label=\"y_true\" )\n",
    "\n",
    "axes.set_xlabel(\"Celsius\")\n",
    "axes.set_ylabel(\"Fahrenheit\")\n",
    "axes.set_title(\"Celsius vs Fahrenheit with y_avg\")"
   ]
  },
  {
   "cell_type": "code",
   "execution_count": null,
   "id": "0de9602d",
   "metadata": {},
   "outputs": [],
   "source": [
    "fig, axes = plt.subplots(figsize=(8,4))\n",
    "axes.plot(x,y_true, \"o\" ,alpha =0.4)\n",
    "axes.plot(x,y_pred,color='Black', label=\"y_true\" )\n",
    "\n",
    "axes.set_xlabel(\"Celsius\")\n",
    "axes.set_ylabel(\"Fahrenheit\")\n",
    "axes.set_title(\"Celsius vs Fahrenheit with y_pred\")"
   ]
  },
  {
   "cell_type": "code",
   "execution_count": null,
   "id": "1e3d9e3c",
   "metadata": {},
   "outputs": [],
   "source": []
  }
 ],
 "metadata": {
  "kernelspec": {
   "display_name": "Python 3",
   "language": "python",
   "name": "python3"
  },
  "language_info": {
   "codemirror_mode": {
    "name": "ipython",
    "version": 3
   },
   "file_extension": ".py",
   "mimetype": "text/x-python",
   "name": "python",
   "nbconvert_exporter": "python",
   "pygments_lexer": "ipython3",
   "version": "3.8.8"
  }
 },
 "nbformat": 4,
 "nbformat_minor": 5
}
