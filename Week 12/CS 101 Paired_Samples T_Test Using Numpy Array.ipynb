{
 "cells": [
  {
   "cell_type": "markdown",
   "metadata": {},
   "source": [
    "### Numpy Array, Stats, Correlation, and Paired-Sample T-Test "
   ]
  },
  {
   "cell_type": "code",
   "execution_count": null,
   "metadata": {},
   "outputs": [],
   "source": [
    "# read Excel or CSV File\n",
    "import pandas as pd\n",
    "\n",
    "# Store Columns as Arrays\n",
    "import numpy as np\n",
    "\n",
    "# Perform Paired-Samples T-Test \n",
    "from scipy.stats import ttest_rel"
   ]
  },
  {
   "cell_type": "code",
   "execution_count": null,
   "metadata": {},
   "outputs": [],
   "source": [
    "# Load sample data file\n",
    "\n",
    "df = pd.read_csv (\"Huang Class Differences.csv\")"
   ]
  },
  {
   "cell_type": "code",
   "execution_count": null,
   "metadata": {},
   "outputs": [],
   "source": [
    "df.head(3)"
   ]
  },
  {
   "cell_type": "code",
   "execution_count": null,
   "metadata": {},
   "outputs": [],
   "source": [
    "# Convert df columns to individual arrays\n",
    "\n",
    "Student= np.array(df[\"Student\"])\n",
    "PreTest= np.array(df[\"Pre-Test\"])\n",
    "PostTest= np.array(df[\"Post-Test\"])\n"
   ]
  },
  {
   "cell_type": "code",
   "execution_count": null,
   "metadata": {},
   "outputs": [],
   "source": [
    "print(\"student array = \", Student)\n",
    "print(\"pre-test array = \", PreTest)\n",
    "print(\"post-test array = \", PostTest)\n"
   ]
  },
  {
   "cell_type": "code",
   "execution_count": null,
   "metadata": {},
   "outputs": [],
   "source": [
    "# Compare Means - Paired Samples T-Test\n",
    "\n",
    "PairedT = ttest_rel(PreTest,PostTest)\n",
    "\n",
    "print(PairedT)"
   ]
  },
  {
   "cell_type": "code",
   "execution_count": null,
   "metadata": {},
   "outputs": [],
   "source": [
    "PairedT.pvalue"
   ]
  },
  {
   "cell_type": "code",
   "execution_count": null,
   "metadata": {},
   "outputs": [],
   "source": [
    "if PairedT.pvalue < 0.05:\n",
    "    print(\"Performamnce of InPerson Students and Online Students are Different\")\n",
    "else:\n",
    "    print(\"Performamnce of InPerson Students and Online Students are the same\")\n"
   ]
  }
 ],
 "metadata": {
  "kernelspec": {
   "display_name": "Python 3",
   "language": "python",
   "name": "python3"
  },
  "language_info": {
   "codemirror_mode": {
    "name": "ipython",
    "version": 3
   },
   "file_extension": ".py",
   "mimetype": "text/x-python",
   "name": "python",
   "nbconvert_exporter": "python",
   "pygments_lexer": "ipython3",
   "version": "3.8.3"
  }
 },
 "nbformat": 4,
 "nbformat_minor": 2
}
