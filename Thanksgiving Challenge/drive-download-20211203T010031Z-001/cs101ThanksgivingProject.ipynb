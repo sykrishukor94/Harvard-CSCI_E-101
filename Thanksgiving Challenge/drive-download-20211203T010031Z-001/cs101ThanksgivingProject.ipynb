{
 "cells": [
  {
   "cell_type": "code",
   "execution_count": 1,
   "id": "7806b4d7",
   "metadata": {},
   "outputs": [],
   "source": [
    "import pandas as pd\n",
    "import scipy.stats as st \n",
    "\n",
    "# For Post Hoc\n",
    "from statsmodels.stats.multicomp import pairwise_tukeyhsd\n",
    "from statsmodels.stats.multicomp import MultiComparison as multi"
   ]
  },
  {
   "cell_type": "code",
   "execution_count": 2,
   "id": "44ed765e",
   "metadata": {},
   "outputs": [],
   "source": [
    "\n",
    "# This .py loads and analyzes TSA travel throughput data from 2019-2020\n",
    "\n",
    "\n",
    "\n",
    "import pandas as pd\n",
    "\n",
    "import numpy as np\n",
    "\n",
    "import sklearn\n",
    "\n",
    "from sklearn.model_selection import train_test_split\n",
    "\n",
    "from sklearn.linear_model import LinearRegression\n",
    "\n",
    "import statsmodels.api as sm\n",
    "\n",
    "from statsmodels.formula.api import ols\n",
    "\n",
    "import scipy as cp\n",
    "\n",
    "from scipy.stats import ttest_rel\n",
    "\n",
    "from scipy.stats import ttest_ind\n",
    "\n",
    "import matplotlib.pyplot as plt\n",
    "\n",
    "\n",
    "\n",
    "# This program takes 2 datasets, decides on best t-test, and returns values\n",
    "\n",
    "def CleanColumnHeading(dfx):\n",
    "\n",
    "# standardizes column header names\n",
    "\n",
    "    dfx.rename({'2021 Traveler Throughput': 'travel2021'}, axis = 1, inplace = True)\n",
    "\n",
    "    dfx.rename({'2020 Traveler Throughput': 'travel2020'}, axis = 1, inplace = True)\n",
    "\n",
    "    dfx.rename({'2019 Traveler Throughput': 'travel2019'}, axis = 1, inplace = True)\n",
    "\n",
    "\n",
    "\n",
    "# Your code to convert all column names to lower cases\n",
    "\n",
    "    dfx.rename(columns = str.lower, inplace=True)\n",
    "\n",
    "\n",
    "\n",
    "# Your code to change all spaces in column names to underscore\n",
    "\n",
    "    dfx.rename(columns = {col: col.replace(' ','_') for col in dfx.columns}, inplace = True)\n",
    "\n",
    "    return dfx\n",
    "\n",
    "\n",
    "\n",
    "def EqualVar(arr1, arr2):\n",
    "\n",
    "    EqualVar = True\n",
    "\n",
    "    # print(arr1.std(),arr2.std())\n",
    "\n",
    "    if arr1.std() > arr2.std():\n",
    "\n",
    "        if arr1.std() / arr2.std() > 2:\n",
    "\n",
    "            EqualVar = False\n",
    "\n",
    "    else:\n",
    "\n",
    "        if arr2.std() / arr1.std() > 2:\n",
    "\n",
    "            EqualVar = False\n",
    "\n",
    "    return EqualVar\n",
    "\n",
    "\n",
    "\n",
    "    # Load data\n",
    "\n"
   ]
  },
  {
   "cell_type": "code",
   "execution_count": 3,
   "id": "aab6a83c",
   "metadata": {},
   "outputs": [],
   "source": [
    "df= pd.read_excel('tsa.xls')\n",
    "\n",
    "\n",
    "df =CleanColumnHeading(df)\n"
   ]
  },
  {
   "cell_type": "code",
   "execution_count": 4,
   "id": "59d013f8",
   "metadata": {},
   "outputs": [
    {
     "name": "stdout",
     "output_type": "stream",
     "text": [
      "ANOVA Results:  F_onewayResult(statistic=117.09506495567449, pvalue=1.4605962861436873e-18)\n"
     ]
    },
    {
     "data": {
      "text/plain": [
       "1.4605962861436873e-18"
      ]
     },
     "execution_count": 4,
     "metadata": {},
     "output_type": "execute_result"
    }
   ],
   "source": [
    "# Oneway ANOVA \n",
    "Results = st.f_oneway(df[\"travel2021\"], df[\"travel2020\"], df[\"travel2019\"])\n",
    "\n",
    "print (\"ANOVA Results: \", Results)\n",
    "Results.pvalue"
   ]
  },
  {
   "cell_type": "code",
   "execution_count": 5,
   "id": "ca24ea7b",
   "metadata": {},
   "outputs": [],
   "source": [
    "df_2021 = df[[\"travel2021\"]].copy()\n",
    "df_2021['grp']='travel2021'\n",
    "df_2021.columns =['travellers','grp']\n",
    "df_2020 = df[[\"travel2020\"]].copy()\n",
    "df_2020['grp']='travel2020'\n",
    "df_2020.columns =['travellers','grp']\n",
    "df_2019 = df[[\"travel2019\"]].copy()\n",
    "df_2019['grp']='travel2019'\n",
    "df_2019.columns =['travellers','grp']\n",
    "df_final = df_2019.append(df_2020).append(df_2021)"
   ]
  },
  {
   "cell_type": "code",
   "execution_count": 6,
   "id": "9b4b3b70",
   "metadata": {},
   "outputs": [
    {
     "name": "stdout",
     "output_type": "stream",
     "text": [
      "            Multiple Comparison of Means - Tukey HSD, FWER=0.05             \n",
      "============================================================================\n",
      "  group1     group2     meandiff   p-adj      lower         upper     reject\n",
      "----------------------------------------------------------------------------\n",
      "travel2019 travel2020  -1418740.25  0.001 -1655067.2621 -1182413.2379   True\n",
      "travel2019 travel2021 -308730.6875 0.0077  -545057.6996   -72403.6754   True\n",
      "travel2020 travel2021 1110009.5625  0.001   873682.5504  1346336.5746   True\n",
      "----------------------------------------------------------------------------\n"
     ]
    }
   ],
   "source": [
    "# Post Hoc\n",
    "MultiComp = multi(df_final[\"travellers\"], df_final[\"grp\"])\n",
    "PostHoc = MultiComp.tukeyhsd()\n",
    "print(PostHoc)"
   ]
  },
  {
   "cell_type": "code",
   "execution_count": 7,
   "id": "388970c0",
   "metadata": {},
   "outputs": [
    {
     "name": "stdout",
     "output_type": "stream",
     "text": [
      "Thanksgiving 2021 vs 2020 p-value:  2.0170647109029665e-12\n",
      "Thanksgiving 2021 vs 2019 p-value:  0.01498179656065141\n",
      "Thanksgiving 2020 vs 2019 p-value:  1.4234506839643472e-14\n"
     ]
    }
   ],
   "source": [
    "\n",
    "\n",
    "\n",
    "\n",
    "# Select Thanksgiving Week: Define as time from 14 - 29Nov2021, which is the first\n",
    "\n",
    "tgv2021 = np.array(df.iloc[:15][\"travel2021\"])\n",
    "\n",
    "tgv2020 = np.array(df.iloc[:15][\"travel2020\"])\n",
    "\n",
    "tgv2019 = np.array(df.iloc[:15][\"travel2019\"])\n",
    "\n",
    "\n",
    "\n",
    "# print(tgv2021, tgv2020, tgv2019)\n",
    "\n",
    "\n",
    "\n",
    "# Run T-Test. Since datasets are of same length, we only check for equal variance\n",
    "\n",
    "# Comparing 2021 vs 2020\n",
    "\n",
    "#   Check for equal variance\n",
    "\n",
    "equal_variance = EqualVar(tgv2021, tgv2020)\n",
    "\n",
    "tTest = ttest_ind(tgv2021, tgv2020, equal_var = equal_variance)\n",
    "\n",
    "results = tTest.statistic\n",
    "\n",
    "Temp_P_Value = tTest.pvalue\n",
    "\n",
    "print(\"Thanksgiving 2021 vs 2020 p-value: \", Temp_P_Value)\n",
    "\n",
    "\n",
    "\n",
    "# Comparing 2021 vs 2019\n",
    "\n",
    "#   Check for equal variance\n",
    "\n",
    "equal_variance = EqualVar(tgv2021, tgv2019)\n",
    "\n",
    "tTest = ttest_ind(tgv2021, tgv2019, equal_var = equal_variance)\n",
    "\n",
    "results = tTest.statistic\n",
    "\n",
    "Temp_P_Value = tTest.pvalue\n",
    "\n",
    "print(\"Thanksgiving 2021 vs 2019 p-value: \", Temp_P_Value)\n",
    "\n",
    "\n",
    "\n",
    "# Comparing 2020 vs 2019\n",
    "\n",
    "#   Check for equal variance\n",
    "\n",
    "equal_variance = EqualVar(tgv2020, tgv2019)\n",
    "\n",
    "tTest = ttest_ind(tgv2020, tgv2019, equal_var = equal_variance)\n",
    "\n",
    "results = tTest.statistic\n",
    "\n",
    "Temp_P_Value = tTest.pvalue\n",
    "\n",
    "print(\"Thanksgiving 2020 vs 2019 p-value: \", Temp_P_Value)\n"
   ]
  },
  {
   "cell_type": "code",
   "execution_count": 8,
   "id": "142f4967",
   "metadata": {},
   "outputs": [
    {
     "data": {
      "image/png": "[encoded data removed]",
      "text/plain": [
       "<Figure size 432x288 with 1 Axes>"
      ]
     },
     "metadata": {
      "needs_background": "light"
     },
     "output_type": "display_data"
    }
   ],
   "source": [
    "import matplotlib.pyplot as plt\n",
    "import seaborn as sns\n",
    "ax = sns.boxplot(x='grp', y='travellers', data=df_final, color='#99c2a2')\n",
    "ax = sns.swarmplot(x=\"grp\", y=\"travellers\", data=df_final, color='#7d0013')\n",
    "ax.set_xlabel('Travel Year')\n",
    "ax.set_ylabel('Traveller volumes')\n",
    "ax.set_title('Traveller volumes per year in Millions(Fig1)')\n",
    "plt.show()"
   ]
  },
  {
   "cell_type": "markdown",
   "id": "d1129263",
   "metadata": {},
   "source": [
    "Figure 1 shows box plots for average daily TSA traveler volume in 2019, 2020, and 2021.\n",
    "\n"
   ]
  },
  {
   "cell_type": "code",
   "execution_count": null,
   "id": "5663bf61",
   "metadata": {},
   "outputs": [],
   "source": []
  }
 ],
 "metadata": {
  "kernelspec": {
   "display_name": "Python 3",
   "language": "python",
   "name": "python3"
  },
  "language_info": {
   "codemirror_mode": {
    "name": "ipython",
    "version": 3
   },
   "file_extension": ".py",
   "mimetype": "text/x-python",
   "name": "python",
   "nbconvert_exporter": "python",
   "pygments_lexer": "ipython3",
   "version": "3.8.8"
  }
 },
 "nbformat": 4,
 "nbformat_minor": 5
}
