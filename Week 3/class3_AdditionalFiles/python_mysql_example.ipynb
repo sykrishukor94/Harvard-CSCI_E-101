{
 "cells": [
  {
   "cell_type": "code",
   "execution_count": 2,
   "id": "c3c3a211",
   "metadata": {},
   "outputs": [],
   "source": [
    "import mysql.connector as con"
   ]
  },
  {
   "cell_type": "code",
   "execution_count": 3,
   "id": "64e3eba9",
   "metadata": {},
   "outputs": [],
   "source": [
    "mydb=con.connect(host=\"localhost\",user=\"root\",passwd=\"admin\", buffered=True)"
   ]
  },
  {
   "cell_type": "code",
   "execution_count": 4,
   "id": "b7cac436",
   "metadata": {},
   "outputs": [],
   "source": [
    "mycursor = mydb.cursor()"
   ]
  },
  {
   "cell_type": "code",
   "execution_count": 5,
   "id": "91c9da07",
   "metadata": {},
   "outputs": [],
   "source": [
    "cmd_1 = \"SHOW DATABASES\"\n",
    "mycursor.execute(cmd_1)"
   ]
  },
  {
   "cell_type": "code",
   "execution_count": 6,
   "id": "958ca3d9",
   "metadata": {},
   "outputs": [
    {
     "name": "stdout",
     "output_type": "stream",
     "text": [
      "('cook_county',)\n",
      "('cook_county2',)\n",
      "('cook_county3',)\n",
      "('information_schema',)\n",
      "('mysql',)\n",
      "('performance_schema',)\n",
      "('sakila',)\n",
      "('sys',)\n",
      "('test',)\n",
      "('world',)\n"
     ]
    }
   ],
   "source": [
    "for db in mycursor:\n",
    "    print(db)"
   ]
  },
  {
   "cell_type": "code",
   "execution_count": 7,
   "id": "8a4f9cd3",
   "metadata": {},
   "outputs": [],
   "source": [
    "mycursor.execute(\"DROP SCHEMA IF EXISTS Student;\")\n",
    "mycursor.execute(\"CREATE DATABASE `Student`\")\n",
    "mycursor.execute(\"CREATE TABLE Student.Students (name VARCHAR(255), address VARCHAR(255))\")"
   ]
  },
  {
   "cell_type": "code",
   "execution_count": 9,
   "id": "d88541f3",
   "metadata": {},
   "outputs": [],
   "source": [
    "sql = \"INSERT INTO Student.Students (name, address) VALUES (%s, %s)\"\n",
    "value = (\"Rijesh\", \"Minnetonka\")\n",
    "mycursor.execute(sql, value)\n",
    "mydb.commit()"
   ]
  },
  {
   "cell_type": "code",
   "execution_count": 10,
   "id": "4b5627f2",
   "metadata": {},
   "outputs": [],
   "source": [
    "sql = \"INSERT INTO Student.Students (name, address) VALUES (%s, %s)\"\n",
    "values = [\n",
    "  ('Meen', 'Duluth'),\n",
    "  ('Amanda', 'Minneapolis'),\n",
    "  ('Avinash', 'Frisco')]\n",
    "\n",
    "mycursor.executemany(sql, values)\n",
    "mydb.commit()"
   ]
  },
  {
   "cell_type": "code",
   "execution_count": null,
   "id": "4e9fc591",
   "metadata": {},
   "outputs": [],
   "source": []
  }
 ],
 "metadata": {
  "kernelspec": {
   "display_name": "Python 3",
   "language": "python",
   "name": "python3"
  },
  "language_info": {
   "codemirror_mode": {
    "name": "ipython",
    "version": 3
   },
   "file_extension": ".py",
   "mimetype": "text/x-python",
   "name": "python",
   "nbconvert_exporter": "python",
   "pygments_lexer": "ipython3",
   "version": "3.8.8"
  }
 },
 "nbformat": 4,
 "nbformat_minor": 5
}
