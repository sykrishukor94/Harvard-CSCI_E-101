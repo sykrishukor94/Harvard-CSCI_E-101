{
 "cells": [
  {
   "cell_type": "markdown",
   "id": "dd32376d",
   "metadata": {},
   "source": [
    "## Variables \n",
    "variables are name representing value stored in the memory.\n",
    "\n",
    "### Variable Naming rule\n",
    "I. you cannot use python's keywords for naming variable examples:\n",
    "\n",
    "1. and \n",
    "2. del \n",
    "3. from \n",
    "4. None \n",
    "5. True\n",
    "6. as \n",
    "7. elif\n",
    "8. def\n",
    "9. else   \n",
    "are some examples.\n",
    "\n",
    "II. No spaces between variable names. For example the variable \" fruit name\" is incorrect\n",
    "\n",
    "III. first character a-z, A-Z or underscore .Examples : a , _a, fruit, Fruit \n",
    "\n",
    "IV. After first character you can use a-z, A-Z , 0-9 or underscore .Examples : a20, a_20, _20 \n",
    "\n",
    "V. Case sensitive ,  fruit, and Fruits are considered distince.\n"
   ]
  },
  {
   "cell_type": "code",
   "execution_count": 5,
   "id": "0760f992",
   "metadata": {},
   "outputs": [
    {
     "data": {
      "text/plain": [
       "4"
      ]
     },
     "execution_count": 5,
     "metadata": {},
     "output_type": "execute_result"
    }
   ],
   "source": [
    "2+2\n"
   ]
  },
  {
   "cell_type": "code",
   "execution_count": null,
   "id": "df888372",
   "metadata": {},
   "outputs": [],
   "source": []
  },
  {
   "cell_type": "code",
   "execution_count": 6,
   "id": "afdcafc2",
   "metadata": {},
   "outputs": [
    {
     "name": "stdout",
     "output_type": "stream",
     "text": [
      "apple 10 0.75\n"
     ]
    }
   ],
   "source": [
    "#declaring and storing values in variables\n",
    "#declares an int\n",
    "\n",
    "fruit1_count = 10\n",
    "\n",
    "\n",
    "#declares a float\n",
    "fruit1_price = 0.75\n",
    "\n",
    "\n",
    "#declares a string, note you can also use \"apple\" to store a string. Use \" \" if you have a string literal that contains an\n",
    "#apostrophe or single quote\n",
    "fruit1_name ='apple'\n",
    "\n",
    "print(fruit1_name,fruit1_count,fruit1_price)"
   ]
  },
  {
   "cell_type": "code",
   "execution_count": 7,
   "id": "0b8fb7ff",
   "metadata": {},
   "outputs": [],
   "source": [
    "#Note : You cannot use a variable if you have not declared it. You will get an error \n",
    "\n",
    "#print(f2_name)"
   ]
  },
  {
   "cell_type": "markdown",
   "id": "13483ac7",
   "metadata": {},
   "source": [
    "## Python math operators\n",
    "\n",
    "<table>\n",
    "    <tr>\n",
    "        <th>Symbol</th>\n",
    "        <th>Operation</th>\n",
    "        <th>Description</th>\n",
    "    </tr>\n",
    "    <tr>\n",
    "        <td> + </td>\n",
    "        <td> Add </td>\n",
    "    </tr>\n",
    "    <tr>\n",
    "        <td> + </td>\n",
    "        <td> Add </td>\n",
    "    </tr>\n",
    "    <tr>\n",
    "        <td> - </td>\n",
    "        <td> Subtract </td>\n",
    "    </tr>\n",
    "    <tr>\n",
    "        <td> * </td>\n",
    "        <td> Multiply </td>\n",
    "    </tr>\n",
    "    <tr>\n",
    "        <td> /</td>\n",
    "        <td> Divide</td>\n",
    "        <td> The result is a floating point number </td>\n",
    "    </tr>\n",
    "    <tr>\n",
    "        <td> //</td>\n",
    "        <td> Divide</td>\n",
    "        <td> The result is integer </td>\n",
    "    </tr>\n",
    "    <tr>\n",
    "        <td> %</td>\n",
    "        <td> Remainder</td>\n",
    "        <td> Divides one number by another and gives the remainder </td>\n",
    "    </tr>\n",
    "    <tr>\n",
    "        <td> **</td>\n",
    "        <td> Exponent</td>\n",
    "        <td> raises the power</td>\n",
    "    </tr>\n",
    "    \n",
    "</table>"
   ]
  },
  {
   "cell_type": "code",
   "execution_count": 8,
   "id": "5ba20c8c",
   "metadata": {},
   "outputs": [
    {
     "name": "stdout",
     "output_type": "stream",
     "text": [
      "3.75\n"
     ]
    }
   ],
   "source": [
    "f2_name = 'Orange'\n",
    "f2_count = 20\n",
    "f2_price = 0.5\n",
    "\n",
    "#Addition\n",
    "f_total = fruit1_count+ f2_count\n",
    "\n",
    "#Subtraction\n",
    "fruit1_count =  fruit1_count - 5\n",
    "\n",
    "#Multiplication\n",
    "\n",
    "f1_total = fruit1_count * fruit1_price\n",
    "\n",
    "#Excercise : Try the following and store it in a varible  1. 20 /4  2. 20//4  3. 10%3   4. 2**3\n",
    "print(f1_total)"
   ]
  },
  {
   "cell_type": "markdown",
   "id": "2db6aeb5",
   "metadata": {},
   "source": [
    "## Operator Precedence \n",
    "1. Exponentiation\n",
    "2. mulitplication, division , // and %\n",
    "3. Addition, Subtraction\n",
    "\n",
    "Note:\n",
    "1. multiplication / // % have the same precedence \n",
    "2. Addition, Subtraction have the same precedence\n"
   ]
  },
  {
   "cell_type": "code",
   "execution_count": 9,
   "id": "c9f24736",
   "metadata": {},
   "outputs": [
    {
     "data": {
      "text/plain": [
       "14.0"
      ]
     },
     "execution_count": 9,
     "metadata": {},
     "output_type": "execute_result"
    }
   ],
   "source": [
    "x = 12.0 + 6.0 /3.0\n",
    "x"
   ]
  },
  {
   "cell_type": "markdown",
   "id": "3607f857",
   "metadata": {},
   "source": [
    "### Example convert 30 degree celsius to F \n",
    "\n",
    "$$ F= (9/5)C + 32 $$\n"
   ]
  },
  {
   "cell_type": "code",
   "execution_count": 10,
   "id": "2ebe2268",
   "metadata": {},
   "outputs": [
    {
     "data": {
      "text/plain": [
       "86.0"
      ]
     },
     "execution_count": 10,
     "metadata": {},
     "output_type": "execute_result"
    }
   ],
   "source": [
    "celsius = 30\n",
    "\n",
    "fahren = (9/5 )*celsius + 32\n",
    "fahren"
   ]
  },
  {
   "cell_type": "markdown",
   "id": "93598659",
   "metadata": {},
   "source": [
    "## if statement\n",
    "\n",
    "used to create decision structure. It executes one or more statement only if boolean condition is true. \n",
    "\n",
    "<table>\n",
    "    <tr>\n",
    "        <th>Operator</th>\n",
    "        <th>Description</th>\n",
    "    </tr>\n",
    "    <tr>\n",
    "        <td> &gt; </td>\n",
    "        <td> greater than </td>\n",
    "    </tr>\n",
    "    <tr>\n",
    "        <td> &lt; </td>\n",
    "        <td> less than </td>\n",
    "    </tr>\n",
    "    <tr>\n",
    "        <td> &gt;= </td>\n",
    "        <td> greater than or equal to </td>\n",
    "    </tr>\n",
    "    <tr>\n",
    "        <td> &lt;= </td>\n",
    "        <td> less than or equal to </td>\n",
    "    </tr>\n",
    "    <tr>\n",
    "        <td> ==</td>\n",
    "        <td>equal to</td>\n",
    "    </tr>\n",
    "    <tr>\n",
    "        <td> != </td>\n",
    "        <td> Not equal to</td>\n",
    "    </tr>\n",
    "    \n",
    "    \n",
    "</table>"
   ]
  },
  {
   "cell_type": "code",
   "execution_count": 11,
   "id": "e8adb11c",
   "metadata": {},
   "outputs": [
    {
     "name": "stdout",
     "output_type": "stream",
     "text": [
      "Ada total bonus =0\n"
     ]
    }
   ],
   "source": [
    "#Example \n",
    "sales = 1000\n",
    "bonus = 500\n",
    "name = 'Ada'\n",
    "added_bonus =0\n",
    "\n",
    "if sales > 9000:\n",
    "    added_bonus = bonus\n",
    "\n",
    "print(name + ' total bonus =' + str(added_bonus))\n",
    "\n"
   ]
  },
  {
   "cell_type": "markdown",
   "id": "6a2d916c",
   "metadata": {},
   "source": [
    "### if-else statement\n",
    " executes  a block of statement if condition is true , or another block if condition is false\n",
    " "
   ]
  },
  {
   "cell_type": "code",
   "execution_count": 12,
   "id": "22829f2e",
   "metadata": {},
   "outputs": [
    {
     "name": "stdout",
     "output_type": "stream",
     "text": [
      "You did not meet the sales quota for bonus\n"
     ]
    }
   ],
   "source": [
    "sales = 1000\n",
    "if sales > 9000:\n",
    "    added_bonus = 500\n",
    "    print('You met your sales quota, your bonus = '+ str(added_bonus))\n",
    "else:\n",
    "    print('You did not meet the sales quota for bonus')"
   ]
  },
  {
   "cell_type": "code",
   "execution_count": 13,
   "id": "802ed267",
   "metadata": {},
   "outputs": [],
   "source": [
    "# sales = 5000\n",
    "# if sales > 9000:\n",
    "#     added_bonus = 500\n",
    "#     print('You met your sales quota, your bonus = '+ str(added_bonus))\n",
    "# else:\n",
    "#     print('You did not meet the sales quota for bonus')"
   ]
  },
  {
   "cell_type": "markdown",
   "id": "bbcb580b",
   "metadata": {},
   "source": [
    "#### if-elif-else "
   ]
  },
  {
   "cell_type": "code",
   "execution_count": 14,
   "id": "5fb0d1e2",
   "metadata": {},
   "outputs": [
    {
     "name": "stdout",
     "output_type": "stream",
     "text": [
      "10 is positive\n"
     ]
    }
   ],
   "source": [
    "#Example \n",
    "temp =  10\n",
    "\n",
    "if temp == 0:\n",
    "    print(temp,\" is zero\")\n",
    "elif temp > 0:\n",
    "    print(temp, \"is positive\")\n",
    "elif temp < 0:\n",
    "    print(temp, \"is negative\")\n",
    "else:\n",
    "    print(temp, \"is unlike anything I've ever seen...\")"
   ]
  },
  {
   "cell_type": "markdown",
   "id": "d20a4948",
   "metadata": {},
   "source": [
    "## Built in data structures\n",
    "### List\n",
    "\n",
    "ordered and mutable data collection type in Python. \n",
    "example :\n",
    "\n",
    "[1,2,3,4] , ['jane', 'mary', 'john'], ['jane', 20, 'kiran', 30] \n",
    "\n",
    "referece : Whirlwind Tour of Python, Jake Varderplas\n"
   ]
  },
  {
   "cell_type": "markdown",
   "id": "f4dfdd56",
   "metadata": {},
   "source": [
    "#### Operations on list "
   ]
  },
  {
   "cell_type": "code",
   "execution_count": 15,
   "id": "6eb977d2",
   "metadata": {},
   "outputs": [
    {
     "data": {
      "text/plain": [
       "['apple', 'banana', 'orange', 'pear', 'cherry', 'blackberry']"
      ]
     },
     "execution_count": 15,
     "metadata": {},
     "output_type": "execute_result"
    }
   ],
   "source": [
    "my_list = ['apple','banana','orange', 'pear', 'cherry', 'blackberry']\n",
    "\n",
    "# Length of a list \n",
    "len(my_list)\n",
    "my_list"
   ]
  },
  {
   "cell_type": "code",
   "execution_count": 16,
   "id": "dfe8f227",
   "metadata": {},
   "outputs": [
    {
     "data": {
      "text/plain": [
       "['apple', 'banana', 'orange', 'pear', 'cherry', 'blackberry', 'blueberry']"
      ]
     },
     "execution_count": 16,
     "metadata": {},
     "output_type": "execute_result"
    }
   ],
   "source": [
    "#Append - add a value to a list \n",
    "my_list.append('blueberry')\n",
    "my_list"
   ]
  },
  {
   "cell_type": "code",
   "execution_count": 17,
   "id": "116915f9",
   "metadata": {},
   "outputs": [
    {
     "data": {
      "text/plain": [
       "['apple',\n",
       " 'banana',\n",
       " 'orange',\n",
       " 'pear',\n",
       " 'cherry',\n",
       " 'blackberry',\n",
       " 'blueberry',\n",
       " 'mango',\n",
       " 'avacado']"
      ]
     },
     "execution_count": 17,
     "metadata": {},
     "output_type": "execute_result"
    }
   ],
   "source": [
    "new_list = ['mango','avacado']\n",
    "my_list = my_list + new_list\n",
    "my_list"
   ]
  },
  {
   "cell_type": "code",
   "execution_count": 18,
   "id": "b4ae87ed",
   "metadata": {},
   "outputs": [
    {
     "data": {
      "text/plain": [
       "'apple'"
      ]
     },
     "execution_count": 18,
     "metadata": {},
     "output_type": "execute_result"
    }
   ],
   "source": [
    "#List indexing \n",
    "\n",
    "my_list[0]\n"
   ]
  },
  {
   "cell_type": "code",
   "execution_count": 19,
   "id": "963ef12b",
   "metadata": {},
   "outputs": [
    {
     "data": {
      "text/plain": [
       "'avacado'"
      ]
     },
     "execution_count": 19,
     "metadata": {},
     "output_type": "execute_result"
    }
   ],
   "source": [
    "my_list[len(my_list)-1]"
   ]
  },
  {
   "cell_type": "code",
   "execution_count": 20,
   "id": "5b65095d",
   "metadata": {},
   "outputs": [
    {
     "data": {
      "text/plain": [
       "'avacado'"
      ]
     },
     "execution_count": 20,
     "metadata": {},
     "output_type": "execute_result"
    }
   ],
   "source": [
    "my_list[-1]"
   ]
  },
  {
   "cell_type": "markdown",
   "id": "c0263826",
   "metadata": {},
   "source": [
    "## Iterators\n",
    "\n",
    "### Loops\n",
    "\n",
    "You will often need to loop through a collection, or perform a repetitive task in programming. Loops help you with that. \n"
   ]
  },
  {
   "cell_type": "code",
   "execution_count": 21,
   "id": "e272ee06",
   "metadata": {},
   "outputs": [
    {
     "data": {
      "text/plain": [
       "range(0, 10)"
      ]
     },
     "execution_count": 21,
     "metadata": {},
     "output_type": "execute_result"
    }
   ],
   "source": [
    "range(10)"
   ]
  },
  {
   "cell_type": "code",
   "execution_count": 22,
   "id": "2c04048a",
   "metadata": {},
   "outputs": [
    {
     "name": "stdout",
     "output_type": "stream",
     "text": [
      "0 1 2 3 4 5 6 7 8 9 "
     ]
    }
   ],
   "source": [
    "#for loop \n",
    "for i in range(10):\n",
    "    print(i, end=' ')\n",
    "    \n"
   ]
  },
  {
   "cell_type": "code",
   "execution_count": 23,
   "id": "17aa8694",
   "metadata": {},
   "outputs": [
    {
     "data": {
      "text/plain": [
       "9"
      ]
     },
     "execution_count": 23,
     "metadata": {},
     "output_type": "execute_result"
    }
   ],
   "source": [
    "len(my_list)"
   ]
  },
  {
   "cell_type": "code",
   "execution_count": 24,
   "id": "debbeb25",
   "metadata": {},
   "outputs": [
    {
     "name": "stdout",
     "output_type": "stream",
     "text": [
      "apple banana orange pear cherry blackberry blueberry mango avacado "
     ]
    }
   ],
   "source": [
    "#loop through a list\n",
    "for i in range(len(my_list)):\n",
    "    print(my_list[i], end =' ')"
   ]
  },
  {
   "cell_type": "code",
   "execution_count": 25,
   "id": "836730ee",
   "metadata": {},
   "outputs": [
    {
     "name": "stdout",
     "output_type": "stream",
     "text": [
      "apple banana orange pear cherry blackberry blueberry mango avacado "
     ]
    }
   ],
   "source": [
    "#another way \n",
    "for fruit in my_list:\n",
    "    print(fruit, end =' ')\n"
   ]
  },
  {
   "cell_type": "code",
   "execution_count": 26,
   "id": "3cb648f7",
   "metadata": {},
   "outputs": [
    {
     "data": {
      "text/plain": [
       "['apple',\n",
       " 'banana',\n",
       " 'orange',\n",
       " 'pear',\n",
       " 'cherry',\n",
       " 'blackberry',\n",
       " 'blueberry',\n",
       " 'mango',\n",
       " 'avacado']"
      ]
     },
     "execution_count": 26,
     "metadata": {},
     "output_type": "execute_result"
    }
   ],
   "source": [
    "my_list"
   ]
  },
  {
   "cell_type": "code",
   "execution_count": 31,
   "id": "92614c1a",
   "metadata": {},
   "outputs": [
    {
     "name": "stdout",
     "output_type": "stream",
     "text": [
      "0 1 2 3 4 5 6 7 8 9 "
     ]
    }
   ],
   "source": [
    "#while loop \n",
    "\n",
    "i = 0\n",
    "\n",
    "while i < 10:\n",
    "    print(i, end =' ')\n",
    "    i = i+1\n",
    "    \n",
    "\n"
   ]
  },
  {
   "cell_type": "code",
   "execution_count": 33,
   "id": "0dd502fd",
   "metadata": {},
   "outputs": [
    {
     "name": "stdout",
     "output_type": "stream",
     "text": [
      "avacado mango blueberry blackberry cherry pear orange banana apple "
     ]
    }
   ],
   "source": [
    "\n",
    "i = len(my_list) -1\n",
    "\n",
    "while i >=0:\n",
    "    print(my_list[i], end =\" \")\n",
    "    i = i-1\n"
   ]
  },
  {
   "cell_type": "code",
   "execution_count": 36,
   "id": "231becd4",
   "metadata": {},
   "outputs": [
    {
     "name": "stdout",
     "output_type": "stream",
     "text": [
      "True\n",
      "False\n"
     ]
    }
   ],
   "source": [
    "#strings\n",
    "\n",
    "ch = 'a'\n",
    "flag = False\n",
    "my_str = \"apples\"\n",
    "\n",
    "for c in my_str:\n",
    "    if c == ch:\n",
    "        flag = True\n",
    "print(flag)\n",
    "\n",
    "\n",
    "ch = 'k'\n",
    "flag = False\n",
    "for c in range(len(my_str)):\n",
    "    if (c == ch):\n",
    "        flag = True\n",
    "print(flag)\n",
    "    "
   ]
  },
  {
   "cell_type": "code",
   "execution_count": null,
   "id": "5bd126b2",
   "metadata": {},
   "outputs": [],
   "source": []
  },
  {
   "cell_type": "markdown",
   "id": "e4e4489e",
   "metadata": {},
   "source": [
    "## Functions\n",
    "\n",
    "$ y = f(x) $\n",
    "\n",
    "examples :\n",
    "\n",
    "1. $y = 2x$\n",
    "2. $y= x**2$"
   ]
  },
  {
   "cell_type": "code",
   "execution_count": 37,
   "id": "01ad8579",
   "metadata": {},
   "outputs": [
    {
     "name": "stdout",
     "output_type": "stream",
     "text": [
      "Hello\n"
     ]
    }
   ],
   "source": [
    "print('Hello')"
   ]
  },
  {
   "cell_type": "code",
   "execution_count": 38,
   "id": "6a351c11",
   "metadata": {},
   "outputs": [],
   "source": [
    "def my_function(x):\n",
    "    ans = x**2\n",
    "    return ans\n"
   ]
  },
  {
   "cell_type": "code",
   "execution_count": 39,
   "id": "410ae387",
   "metadata": {},
   "outputs": [
    {
     "data": {
      "text/plain": [
       "25"
      ]
     },
     "execution_count": 39,
     "metadata": {},
     "output_type": "execute_result"
    }
   ],
   "source": [
    "answer = my_function(5)\n",
    "answer"
   ]
  },
  {
   "cell_type": "code",
   "execution_count": 44,
   "id": "1629364f",
   "metadata": {},
   "outputs": [],
   "source": [
    "#This function prints hello\n",
    "def print_hello():\n",
    "    print('hello')\n"
   ]
  },
  {
   "cell_type": "code",
   "execution_count": 43,
   "id": "2641210d",
   "metadata": {},
   "outputs": [
    {
     "name": "stdout",
     "output_type": "stream",
     "text": [
      "hello\n"
     ]
    }
   ],
   "source": [
    "print_hello()"
   ]
  },
  {
   "cell_type": "code",
   "execution_count": 45,
   "id": "a46513d5",
   "metadata": {},
   "outputs": [
    {
     "name": "stdout",
     "output_type": "stream",
     "text": [
      "12\n"
     ]
    }
   ],
   "source": [
    "\n",
    "def my_function(x,y): #my_function takes the parameters x and y\n",
    "    \"\"\"\n",
    "   x : int\n",
    "   y: int\n",
    "   returns x * y\n",
    "   \"\"\"\n",
    "\n",
    "    z = x*y\n",
    "    return z #my_function returnz z, the product of x and y\n",
    "\n",
    "answer = my_function (3,4) #assign the results of my_function to the variable answer\n",
    "print(answer)"
   ]
  },
  {
   "cell_type": "code",
   "execution_count": 47,
   "id": "79c90f44",
   "metadata": {},
   "outputs": [
    {
     "data": {
      "text/plain": [
       "3.0"
      ]
     },
     "execution_count": 47,
     "metadata": {},
     "output_type": "execute_result"
    }
   ],
   "source": [
    "x = 9\n",
    "y= x**(0.5)\n",
    "y\n",
    "\n",
    "\n"
   ]
  },
  {
   "cell_type": "code",
   "execution_count": 48,
   "id": "5d507cb3",
   "metadata": {},
   "outputs": [],
   "source": [
    "\n",
    "# This function counts the number of digits in the string \n",
    "#returns the count \n",
    "def count_digits(st):\n",
    "    digit_count =0\n",
    "    for i in range(len(st)):\n",
    "        if st[i].isdigit():\n",
    "            digit_count = digit_count +1\n",
    "    \n",
    "    return digit_count\n",
    "\n",
    "    \n",
    " "
   ]
  },
  {
   "cell_type": "code",
   "execution_count": 49,
   "id": "9982f68b",
   "metadata": {},
   "outputs": [
    {
     "data": {
      "text/plain": [
       "4"
      ]
     },
     "execution_count": 49,
     "metadata": {},
     "output_type": "execute_result"
    }
   ],
   "source": [
    "count_digits('app43le45')"
   ]
  },
  {
   "cell_type": "code",
   "execution_count": 52,
   "id": "23750b80",
   "metadata": {},
   "outputs": [
    {
     "data": {
      "text/plain": [
       "'apple'"
      ]
     },
     "execution_count": 52,
     "metadata": {},
     "output_type": "execute_result"
    }
   ],
   "source": [
    "st = 'apple'\n",
    "st"
   ]
  },
  {
   "cell_type": "code",
   "execution_count": 53,
   "id": "72f7d4dd",
   "metadata": {},
   "outputs": [
    {
     "name": "stdout",
     "output_type": "stream",
     "text": [
      "Non Digit\n",
      "Non Digit\n",
      "Non Digit\n",
      "Digit\n",
      "Digit\n",
      "Non Digit\n",
      "Digit\n",
      "Digit\n"
     ]
    }
   ],
   "source": [
    "value = 'app43e45'\n",
    "for i in range(len(value)):\n",
    "    x = (value[i])\n",
    "    if x.isdigit() == True:\n",
    "        print(\"Digit\")\n",
    "    else:\n",
    "        print(\"Non Digit\")\n"
   ]
  },
  {
   "cell_type": "code",
   "execution_count": null,
   "id": "a9a1539d",
   "metadata": {},
   "outputs": [],
   "source": []
  }
 ],
 "metadata": {
  "kernelspec": {
   "display_name": "Python 3 (ipykernel)",
   "language": "python",
   "name": "python3"
  },
  "language_info": {
   "codemirror_mode": {
    "name": "ipython",
    "version": 3
   },
   "file_extension": ".py",
   "mimetype": "text/x-python",
   "name": "python",
   "nbconvert_exporter": "python",
   "pygments_lexer": "ipython3",
   "version": "3.9.7"
  }
 },
 "nbformat": 4,
 "nbformat_minor": 5
}
