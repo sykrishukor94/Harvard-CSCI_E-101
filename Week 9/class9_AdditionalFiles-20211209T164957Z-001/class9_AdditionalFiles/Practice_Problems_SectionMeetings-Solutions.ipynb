{
 "cells": [
  {
   "cell_type": "markdown",
   "id": "1406d4de",
   "metadata": {},
   "source": [
    "# Practice questions #\n",
    "\n",
    "***Here are some practice questions to help you prepare for midterm. Please note that the questions here cover only a small subset of topics. Please be sure to review all the materials covered in the class for your midterm. Also notice that these practice problems are designed to be completed in 40 minutes.***  \n",
    "\n",
    "***!!!These problems do not simulate the actual midterm.!!!***\n"
   ]
  },
  {
   "cell_type": "markdown",
   "id": "5daf8bb2",
   "metadata": {},
   "source": [
    "1.Write a function that takes a list of numbers as input and returns the sum of all the elements in a list\n",
    "    \n",
    "    Example : \n",
    "    \n",
    "    Input : [1,2,3,5] \n",
    "    \n",
    "    output : 11"
   ]
  },
  {
   "cell_type": "code",
   "execution_count": 12,
   "id": "40bc5305",
   "metadata": {},
   "outputs": [],
   "source": [
    "def SumOfList(myList):\n",
    "    #your code here\n",
    "    sum=0\n",
    "    for i in myList:\n",
    "        sum += i\n",
    "    return sum\n",
    "\n",
    "\n",
    "assert(SumOfList([1,2,3,5]) ==11)"
   ]
  },
  {
   "attachments": {
    "quad.png": {
     "image/png": "[encoded data removed]"
    }
   },
   "cell_type": "markdown",
   "id": "c45bb698",
   "metadata": {},
   "source": [
    "2. A quadratic equation is defined as $f(x) = ax^2 + bx + c$\n",
    "\n",
    "The roots of a quadratic equation is given by \n",
    "\n",
    "![quad.png](attachment:quad.png)\n",
    "\n",
    "Write a function that takes the coefficients a,b,c as input and returns both the roots of the quadratic equation.\n",
    " \n",
    "Example :\n",
    "Input:\n",
    "\n",
    "a = 1.0 ,b = -1.0, c = -6.0\n",
    "\n",
    "Output :\n",
    "\n",
    "x1 = 3.000, x2 = -2.000\n",
    "\n",
    "input : a=1, b= 5, c=6\n",
    "\n",
    "output: -2.0, -3.0\n"
   ]
  },
  {
   "cell_type": "code",
   "execution_count": 13,
   "id": "8763bd30",
   "metadata": {},
   "outputs": [
    {
     "name": "stdout",
     "output_type": "stream",
     "text": [
      "-2.0 -3.0\n"
     ]
    }
   ],
   "source": [
    "def QuadraticRoots(a,b,c):\n",
    "    #your calculation to find the roots\n",
    "    \n",
    "    d = (b**2 -4*a*c)**(1/2)\n",
    "    \n",
    "    x1 = (-1*b + d)/ 2*a\n",
    "    x2 = (-1*b - d)/ 2*a\n",
    " \n",
    "    return x1,x2\n",
    "\n",
    "x1, x2 =QuadraticRoots(1,5,6)\n",
    "print(x1,x2)"
   ]
  },
  {
   "cell_type": "markdown",
   "id": "19590376",
   "metadata": {},
   "source": [
    "3. Counting the number of letters, and digits in a string.\n",
    "Write a function CountLettersAndDigits(s) that takes a string s as input, and returns the count of letters, and digits in the string."
   ]
  },
  {
   "cell_type": "code",
   "execution_count": 14,
   "id": "77974dbc",
   "metadata": {},
   "outputs": [
    {
     "name": "stdout",
     "output_type": "stream",
     "text": [
      "(5, 3)\n"
     ]
    }
   ],
   "source": [
    "def CountLettersAndDigits(s):\n",
    "    #your code here\n",
    "    letter_count =0\n",
    "    digit_count =0\n",
    "    for i in s:\n",
    "        if i.isalpha():\n",
    "            letter_count +=1\n",
    "        \n",
    "        if i.isdigit():\n",
    "            digit_count +=1\n",
    "    \n",
    "    return (letter_count, digit_count)\n",
    "\n",
    "\n",
    "print(CountLettersAndDigits(\"Hello500\" ))"
   ]
  },
  {
   "cell_type": "markdown",
   "id": "a1ed6ec3",
   "metadata": {},
   "source": [
    "4. Find the valid password:\n",
    "\n",
    "Your company is building a website that asks your user to login with a username and password. \n",
    "Here are the rules of the password: \n",
    "\n",
    "\n",
    "a. The password must be atleast 8 characters long\n",
    "\n",
    "b. Must incude one Uppercase letter.\n",
    "\n",
    "c. Must include one lowercase letter\n",
    "\n",
    "d. Must contain at least one numeric digit\n",
    "\n",
    "e. Must only include Alphabets, and numeric i.e. [A-Za-z0-9]\n",
    "\n",
    "\n",
    "Write a function that validates a given password. \n",
    "\n",
    "example :  \n",
    "input : acab \n",
    "output : False\n",
    "\n",
    "input : acaB27uo\n",
    "output : True\n",
    "\n",
    "input: aca679B-$\n",
    "output: False\n",
    "\n",
    "\n",
    "Hint : use the len(), isalnum(),isalpha(),isdigit(),islower(), isupper()\n",
    "\n"
   ]
  },
  {
   "cell_type": "code",
   "execution_count": 15,
   "id": "e3b579fe",
   "metadata": {},
   "outputs": [
    {
     "name": "stdout",
     "output_type": "stream",
     "text": [
      "True\n",
      "False\n",
      "False\n",
      "False\n",
      "True\n"
     ]
    }
   ],
   "source": [
    "\n",
    "def ValidatePassword(passwd):\n",
    "    #your code here\n",
    "    isValid = False\n",
    "    upper_count =0\n",
    "    lower_count =0\n",
    "    \n",
    "    if not passwd.isalnum() or len(passwd) <8:\n",
    "        return isValid\n",
    "    \n",
    "    else:\n",
    "        for s in passwd:\n",
    "            if s.isupper():\n",
    "                upper_count +=1\n",
    "            \n",
    "            if s.islower():\n",
    "                lower_count +=1\n",
    "            \n",
    "    if (upper_count >=1 & lower_count >=1):\n",
    "        isValid =True\n",
    "    \n",
    "    return isValid\n",
    "\n",
    "\n",
    "print(ValidatePassword('acaB27uo'))\n",
    "print(ValidatePassword('aca27uo'))\n",
    "print(ValidatePassword('ACA27UOG)'))\n",
    "print(ValidatePassword('27000000'))\n",
    "print(ValidatePassword('aca27uoB047'))"
   ]
  },
  {
   "cell_type": "markdown",
   "id": "9baf298d",
   "metadata": {},
   "source": [
    "\n",
    "Perform the following tasks:\n",
    "\n",
    "1. Create a dataframe from the list provided below. The columns should be named as the list names.\n",
    "2. Remove any leading and trailing spaces from categorical columns\n",
    "3. Set the invalid values as np.NaN for both categorical and quantitative columns\n",
    "4. Drop any rows with missing values(np.NaN)\n",
    "5. Find the following :\n",
    "    \n",
    "    a. First_Name, Last_Name,Score1 for the person who has the highest score in Score1\n",
    "    \n",
    "    b.  First_Name, Last_Name,Score2 for the person who has the highest score in Score2\n",
    "    \n",
    "    c.  First_Name, Last_Name,Score1 for the person who has the lowest score in Score1\n",
    "    \n",
    "    d.  First_Name, Last_Name,Score1 for the person(s) who scored > 80 in score1\n",
    "    \n",
    "    e.  First_Name, Last_Name,Score1, Score2 for the person(s) who scored > 90 in score1 and scored > 80 in Score2\n",
    "\n",
    "\n",
    "\n",
    "You don't need a function for this"
   ]
  },
  {
   "cell_type": "code",
   "execution_count": 16,
   "id": "0402c5e6",
   "metadata": {},
   "outputs": [
    {
     "data": {
      "text/html": [
       "<div>\n",
       "<style scoped>\n",
       "    .dataframe tbody tr th:only-of-type {\n",
       "        vertical-align: middle;\n",
       "    }\n",
       "\n",
       "    .dataframe tbody tr th {\n",
       "        vertical-align: top;\n",
       "    }\n",
       "\n",
       "    .dataframe thead th {\n",
       "        text-align: right;\n",
       "    }\n",
       "</style>\n",
       "<table border=\"1\" class=\"dataframe\">\n",
       "  <thead>\n",
       "    <tr style=\"text-align: right;\">\n",
       "      <th></th>\n",
       "      <th>First_Name</th>\n",
       "      <th>Last_Name</th>\n",
       "      <th>Score1</th>\n",
       "      <th>Score2</th>\n",
       "    </tr>\n",
       "  </thead>\n",
       "  <tbody>\n",
       "    <tr>\n",
       "      <th>0</th>\n",
       "      <td>Mary</td>\n",
       "      <td>Z</td>\n",
       "      <td>96</td>\n",
       "      <td>86</td>\n",
       "    </tr>\n",
       "    <tr>\n",
       "      <th>1</th>\n",
       "      <td>Arturo</td>\n",
       "      <td>G</td>\n",
       "      <td>94</td>\n",
       "      <td>82</td>\n",
       "    </tr>\n",
       "    <tr>\n",
       "      <th>2</th>\n",
       "      <td>Prashant</td>\n",
       "      <td>T</td>\n",
       "      <td>92</td>\n",
       "      <td>76</td>\n",
       "    </tr>\n",
       "    <tr>\n",
       "      <th>3</th>\n",
       "      <td>Harold</td>\n",
       "      <td>K</td>\n",
       "      <td>90</td>\n",
       "      <td>74</td>\n",
       "    </tr>\n",
       "    <tr>\n",
       "      <th>4</th>\n",
       "      <td>Dhimant</td>\n",
       "      <td>M</td>\n",
       "      <td>91</td>\n",
       "      <td>80</td>\n",
       "    </tr>\n",
       "    <tr>\n",
       "      <th>5</th>\n",
       "      <td>Viv</td>\n",
       "      <td>H</td>\n",
       "      <td>95</td>\n",
       "      <td>65</td>\n",
       "    </tr>\n",
       "    <tr>\n",
       "      <th>6</th>\n",
       "      <td>Vladimir</td>\n",
       "      <td>F</td>\n",
       "      <td>89</td>\n",
       "      <td>89</td>\n",
       "    </tr>\n",
       "    <tr>\n",
       "      <th>7</th>\n",
       "      <td>Mariia</td>\n",
       "      <td>L</td>\n",
       "      <td>82</td>\n",
       "      <td>84</td>\n",
       "    </tr>\n",
       "    <tr>\n",
       "      <th>9</th>\n",
       "      <td>Tom</td>\n",
       "      <td>K</td>\n",
       "      <td>59</td>\n",
       "      <td>56</td>\n",
       "    </tr>\n",
       "  </tbody>\n",
       "</table>\n",
       "</div>"
      ],
      "text/plain": [
       "  First_Name Last_Name Score1 Score2\n",
       "0       Mary         Z     96     86\n",
       "1     Arturo         G     94     82\n",
       "2   Prashant         T     92     76\n",
       "3     Harold         K     90     74\n",
       "4    Dhimant         M     91     80\n",
       "5        Viv         H     95     65\n",
       "6   Vladimir         F     89     89\n",
       "7     Mariia         L     82     84\n",
       "9        Tom         K     59     56"
      ]
     },
     "execution_count": 16,
     "metadata": {},
     "output_type": "execute_result"
    }
   ],
   "source": [
    "import pandas as pd\n",
    "import numpy as np\n",
    "\n",
    "First_Name = [\" Mary\",\"Arturo \", \" Prashant \", \"Harold \", \"Dhimant\", \"Viv\", \" Vladimir\", \" Mariia\", \"John\", \"Tom\"]\n",
    "Last_Name = [\" Z\",\" G \", \" T \", \"K \", \"M\", \"H \", \" F\", \" L\", \"$%^\", \"K\"]\n",
    "Score1 = [96,94,92,90 ,91, 95, 89, 82, 'abc', 59]\n",
    "Score2 = [86,82,76,74 ,80, 65, 89, 84, 'a', 56]\n",
    "\n",
    "#Multiples ways to create dataframe from lists \n",
    "#Method 1 , the simplest way\n",
    "df = pd.DataFrame(First_Name, columns= [\"First_Name\"])\n",
    "df[\"Last_Name\"] = Last_Name\n",
    "df[\"Score1\"] = Score1\n",
    "df[\"Score2\"] =Score2\n",
    "\n",
    "\n",
    "#Method2: From a dictionary\n",
    "\n",
    "df = pd.DataFrame({'First_Name':First_Name, 'Last_Name':Last_Name,'Score1':Score1,'Score2':Score2}  )\n",
    "\n",
    "df[\"First_Name\"] = df[\"First_Name\"].str.strip()\n",
    "df[\"Last_Name\"] = df[\"Last_Name\"].str.strip()\n",
    "\n",
    "df[\"Last_Name\"] = df[\"Last_Name\"].replace('[^A-Za-z]', np.NaN, regex=True)\n",
    "\n",
    "df[\"Score1\"] = df[\"Score1\"].replace('[^0-9]', np.NaN, regex=True)\n",
    "df[\"Score2\"] = df[\"Score2\"].replace('[^0-9]', np.NaN, regex=True)\n",
    "\n",
    "\n",
    "df.dropna(inplace=True)\n",
    "df"
   ]
  },
  {
   "cell_type": "code",
   "execution_count": 17,
   "id": "8e0dcdd2",
   "metadata": {},
   "outputs": [
    {
     "data": {
      "text/html": [
       "<div>\n",
       "<style scoped>\n",
       "    .dataframe tbody tr th:only-of-type {\n",
       "        vertical-align: middle;\n",
       "    }\n",
       "\n",
       "    .dataframe tbody tr th {\n",
       "        vertical-align: top;\n",
       "    }\n",
       "\n",
       "    .dataframe thead th {\n",
       "        text-align: right;\n",
       "    }\n",
       "</style>\n",
       "<table border=\"1\" class=\"dataframe\">\n",
       "  <thead>\n",
       "    <tr style=\"text-align: right;\">\n",
       "      <th></th>\n",
       "      <th>First_Name</th>\n",
       "      <th>Last_Name</th>\n",
       "      <th>Score1</th>\n",
       "    </tr>\n",
       "  </thead>\n",
       "  <tbody>\n",
       "    <tr>\n",
       "      <th>0</th>\n",
       "      <td>Mary</td>\n",
       "      <td>Z</td>\n",
       "      <td>96</td>\n",
       "    </tr>\n",
       "  </tbody>\n",
       "</table>\n",
       "</div>"
      ],
      "text/plain": [
       "  First_Name Last_Name Score1\n",
       "0       Mary         Z     96"
      ]
     },
     "execution_count": 17,
     "metadata": {},
     "output_type": "execute_result"
    }
   ],
   "source": [
    "df[['First_Name', 'Last_Name','Score1']][df[\"Score1\"] == df.Score1.max()]\n",
    "\n"
   ]
  },
  {
   "cell_type": "code",
   "execution_count": 18,
   "id": "3c20c2da",
   "metadata": {},
   "outputs": [
    {
     "data": {
      "text/html": [
       "<div>\n",
       "<style scoped>\n",
       "    .dataframe tbody tr th:only-of-type {\n",
       "        vertical-align: middle;\n",
       "    }\n",
       "\n",
       "    .dataframe tbody tr th {\n",
       "        vertical-align: top;\n",
       "    }\n",
       "\n",
       "    .dataframe thead th {\n",
       "        text-align: right;\n",
       "    }\n",
       "</style>\n",
       "<table border=\"1\" class=\"dataframe\">\n",
       "  <thead>\n",
       "    <tr style=\"text-align: right;\">\n",
       "      <th></th>\n",
       "      <th>First_Name</th>\n",
       "      <th>Last_Name</th>\n",
       "      <th>Score1</th>\n",
       "    </tr>\n",
       "  </thead>\n",
       "  <tbody>\n",
       "    <tr>\n",
       "      <th>6</th>\n",
       "      <td>Vladimir</td>\n",
       "      <td>F</td>\n",
       "      <td>89</td>\n",
       "    </tr>\n",
       "  </tbody>\n",
       "</table>\n",
       "</div>"
      ],
      "text/plain": [
       "  First_Name Last_Name Score1\n",
       "6   Vladimir         F     89"
      ]
     },
     "execution_count": 18,
     "metadata": {},
     "output_type": "execute_result"
    }
   ],
   "source": [
    "df[['First_Name', 'Last_Name','Score1']][df[\"Score2\"] == df.Score2.max()]"
   ]
  },
  {
   "cell_type": "code",
   "execution_count": 19,
   "id": "b072e1a8",
   "metadata": {},
   "outputs": [
    {
     "data": {
      "text/html": [
       "<div>\n",
       "<style scoped>\n",
       "    .dataframe tbody tr th:only-of-type {\n",
       "        vertical-align: middle;\n",
       "    }\n",
       "\n",
       "    .dataframe tbody tr th {\n",
       "        vertical-align: top;\n",
       "    }\n",
       "\n",
       "    .dataframe thead th {\n",
       "        text-align: right;\n",
       "    }\n",
       "</style>\n",
       "<table border=\"1\" class=\"dataframe\">\n",
       "  <thead>\n",
       "    <tr style=\"text-align: right;\">\n",
       "      <th></th>\n",
       "      <th>First_Name</th>\n",
       "      <th>Last_Name</th>\n",
       "      <th>Score1</th>\n",
       "    </tr>\n",
       "  </thead>\n",
       "  <tbody>\n",
       "    <tr>\n",
       "      <th>9</th>\n",
       "      <td>Tom</td>\n",
       "      <td>K</td>\n",
       "      <td>59</td>\n",
       "    </tr>\n",
       "  </tbody>\n",
       "</table>\n",
       "</div>"
      ],
      "text/plain": [
       "  First_Name Last_Name Score1\n",
       "9        Tom         K     59"
      ]
     },
     "execution_count": 19,
     "metadata": {},
     "output_type": "execute_result"
    }
   ],
   "source": [
    "df[['First_Name', 'Last_Name','Score1']][df[\"Score1\"] == df['Score1'].min()]\n"
   ]
  },
  {
   "cell_type": "code",
   "execution_count": 20,
   "id": "80e56f8c",
   "metadata": {},
   "outputs": [
    {
     "data": {
      "text/html": [
       "<div>\n",
       "<style scoped>\n",
       "    .dataframe tbody tr th:only-of-type {\n",
       "        vertical-align: middle;\n",
       "    }\n",
       "\n",
       "    .dataframe tbody tr th {\n",
       "        vertical-align: top;\n",
       "    }\n",
       "\n",
       "    .dataframe thead th {\n",
       "        text-align: right;\n",
       "    }\n",
       "</style>\n",
       "<table border=\"1\" class=\"dataframe\">\n",
       "  <thead>\n",
       "    <tr style=\"text-align: right;\">\n",
       "      <th></th>\n",
       "      <th>First_Name</th>\n",
       "      <th>Last_Name</th>\n",
       "      <th>Score1</th>\n",
       "    </tr>\n",
       "  </thead>\n",
       "  <tbody>\n",
       "    <tr>\n",
       "      <th>0</th>\n",
       "      <td>Mary</td>\n",
       "      <td>Z</td>\n",
       "      <td>96</td>\n",
       "    </tr>\n",
       "    <tr>\n",
       "      <th>1</th>\n",
       "      <td>Arturo</td>\n",
       "      <td>G</td>\n",
       "      <td>94</td>\n",
       "    </tr>\n",
       "    <tr>\n",
       "      <th>2</th>\n",
       "      <td>Prashant</td>\n",
       "      <td>T</td>\n",
       "      <td>92</td>\n",
       "    </tr>\n",
       "    <tr>\n",
       "      <th>3</th>\n",
       "      <td>Harold</td>\n",
       "      <td>K</td>\n",
       "      <td>90</td>\n",
       "    </tr>\n",
       "    <tr>\n",
       "      <th>4</th>\n",
       "      <td>Dhimant</td>\n",
       "      <td>M</td>\n",
       "      <td>91</td>\n",
       "    </tr>\n",
       "    <tr>\n",
       "      <th>5</th>\n",
       "      <td>Viv</td>\n",
       "      <td>H</td>\n",
       "      <td>95</td>\n",
       "    </tr>\n",
       "    <tr>\n",
       "      <th>6</th>\n",
       "      <td>Vladimir</td>\n",
       "      <td>F</td>\n",
       "      <td>89</td>\n",
       "    </tr>\n",
       "    <tr>\n",
       "      <th>7</th>\n",
       "      <td>Mariia</td>\n",
       "      <td>L</td>\n",
       "      <td>82</td>\n",
       "    </tr>\n",
       "  </tbody>\n",
       "</table>\n",
       "</div>"
      ],
      "text/plain": [
       "  First_Name Last_Name Score1\n",
       "0       Mary         Z     96\n",
       "1     Arturo         G     94\n",
       "2   Prashant         T     92\n",
       "3     Harold         K     90\n",
       "4    Dhimant         M     91\n",
       "5        Viv         H     95\n",
       "6   Vladimir         F     89\n",
       "7     Mariia         L     82"
      ]
     },
     "execution_count": 20,
     "metadata": {},
     "output_type": "execute_result"
    }
   ],
   "source": [
    "df[['First_Name', 'Last_Name','Score1']][df[\"Score1\"] > 80]"
   ]
  },
  {
   "cell_type": "code",
   "execution_count": 21,
   "id": "49262acd",
   "metadata": {},
   "outputs": [
    {
     "data": {
      "text/html": [
       "<div>\n",
       "<style scoped>\n",
       "    .dataframe tbody tr th:only-of-type {\n",
       "        vertical-align: middle;\n",
       "    }\n",
       "\n",
       "    .dataframe tbody tr th {\n",
       "        vertical-align: top;\n",
       "    }\n",
       "\n",
       "    .dataframe thead th {\n",
       "        text-align: right;\n",
       "    }\n",
       "</style>\n",
       "<table border=\"1\" class=\"dataframe\">\n",
       "  <thead>\n",
       "    <tr style=\"text-align: right;\">\n",
       "      <th></th>\n",
       "      <th>First_Name</th>\n",
       "      <th>Last_Name</th>\n",
       "      <th>Score1</th>\n",
       "      <th>Score2</th>\n",
       "    </tr>\n",
       "  </thead>\n",
       "  <tbody>\n",
       "    <tr>\n",
       "      <th>0</th>\n",
       "      <td>Mary</td>\n",
       "      <td>Z</td>\n",
       "      <td>96</td>\n",
       "      <td>86</td>\n",
       "    </tr>\n",
       "    <tr>\n",
       "      <th>1</th>\n",
       "      <td>Arturo</td>\n",
       "      <td>G</td>\n",
       "      <td>94</td>\n",
       "      <td>82</td>\n",
       "    </tr>\n",
       "  </tbody>\n",
       "</table>\n",
       "</div>"
      ],
      "text/plain": [
       "  First_Name Last_Name Score1 Score2\n",
       "0       Mary         Z     96     86\n",
       "1     Arturo         G     94     82"
      ]
     },
     "execution_count": 21,
     "metadata": {},
     "output_type": "execute_result"
    }
   ],
   "source": [
    "df[['First_Name', 'Last_Name','Score1', 'Score2']][(df[\"Score1\"] > 90) & (df['Score2'] > 80) ]"
   ]
  },
  {
   "cell_type": "markdown",
   "id": "b91e7454",
   "metadata": {},
   "source": [
    "A fibonacci sequence is a series of numbers in the form of $0 , 1, 1, 2, 3, 5, 8, 13, 21, 34, 55 , .... $\n",
    "Each number starting at position 2 is the sum of its previous two numbers. \n",
    "\n",
    "Example : 2 is the sum of previous two numers 1, 1 \n",
    "          \n",
    "          8 is the sum of its previous two number 3,5 \n",
    "          \n",
    "\n",
    "Write a function that takes an input n , and returns a list with  all fibonnacis sequence upto n.\n",
    "\n",
    "Example:\n",
    "\n",
    "fibonacci(5) should return : [0,1,1,2,3]\n",
    "fibonacci(8) should return : [0,1,1,2,3, 5,8,13]\n",
    "\n",
    "Hint: initialize a list with the first 2 fibonccis 0,1 by hardcoding them.  Start your loop from position 2,  append the sum of the previous two items in the list. Continue until you have reached n:\n",
    "\n",
    "\n",
    "\n"
   ]
  },
  {
   "cell_type": "code",
   "execution_count": 22,
   "id": "328fed6e",
   "metadata": {},
   "outputs": [
    {
     "name": "stdout",
     "output_type": "stream",
     "text": [
      "[0, 1, 1, 2, 3, 5, 8, 13]\n"
     ]
    }
   ],
   "source": [
    "def Fibonacci(n):\n",
    "    fib_list = [0,1]\n",
    "    for i in range(2, n):\n",
    "        fib_list.append(fib_list[i-1] + fib_list[i-2])\n",
    "    \n",
    "    return fib_list\n",
    "\n",
    "print(Fibonacci(8))\n",
    "    "
   ]
  },
  {
   "cell_type": "code",
   "execution_count": null,
   "id": "460d54ba",
   "metadata": {},
   "outputs": [],
   "source": []
  }
 ],
 "metadata": {
  "kernelspec": {
   "display_name": "Python 3 (ipykernel)",
   "language": "python",
   "name": "python3"
  },
  "language_info": {
   "codemirror_mode": {
    "name": "ipython",
    "version": 3
   },
   "file_extension": ".py",
   "mimetype": "text/x-python",
   "name": "python",
   "nbconvert_exporter": "python",
   "pygments_lexer": "ipython3",
   "version": "3.9.7"
  }
 },
 "nbformat": 4,
 "nbformat_minor": 5
}
