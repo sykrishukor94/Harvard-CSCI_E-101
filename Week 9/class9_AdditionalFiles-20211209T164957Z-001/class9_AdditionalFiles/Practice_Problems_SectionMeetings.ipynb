{
 "cells": [
  {
   "cell_type": "markdown",
   "id": "1406d4de",
   "metadata": {},
   "source": [
    "# Practice questions #\n",
    "\n",
    "***Here are some practice questions to help you prepare for midterm. Please note that the questions here cover only a small subset of topics. Please be sure to review all the materials covered in the class for your midterm. Also notice that these practice problems are designed to be completed in 40 minutes.***\n",
    "\n",
    "***!!!These problems do not simulate the actual midterm.!!!***\n"
   ]
  },
  {
   "cell_type": "markdown",
   "id": "4746942d",
   "metadata": {},
   "source": [
    "### Assume the inputs to the function have correct datatype. Error handling is not required  ###"
   ]
  },
  {
   "cell_type": "markdown",
   "id": "5daf8bb2",
   "metadata": {},
   "source": [
    "### Question 1.\n",
    "Write a function that takes a list of numbers as input and returns the sum of all the elements in a list\n",
    "    \n",
    "    Example : \n",
    "    \n",
    "    Input : [1,2,3,5] \n",
    "    \n",
    "    output : 11"
   ]
  },
  {
   "cell_type": "code",
   "execution_count": 1,
   "id": "40bc5305",
   "metadata": {},
   "outputs": [],
   "source": [
    "def SumOfList(myList):\n",
    "    #your code here\n",
    "    pass\n",
    "\n",
    "\n",
    "#assert(SumOfList([1,2,3,5]) ==11)"
   ]
  },
  {
   "attachments": {
    "quad.png": {
     "image/png": "[encoded data removed]"
    }
   },
   "cell_type": "markdown",
   "id": "c45bb698",
   "metadata": {},
   "source": [
    "### Question 2.\n",
    "A quadratic equation is defined as $f(x) = ax^2 + bx + c$\n",
    "\n",
    "The roots of a quadratic equation is given by \n",
    "\n",
    "![quad.png](attachment:quad.png)\n",
    "\n",
    "Write a function that takes the coefficients a,b,c as input and returns both the real roots of the quadratic equation.\n",
    " \n",
    "Example :\n",
    "Input:\n",
    "\n",
    "a = 1.0 ,b = -1.0, c = -6.0\n",
    "\n",
    "Output :\n",
    "\n",
    "x1 = 3.000, x2 = -2.000\n",
    "\n",
    "input : a=1, b= 5, c=6\n",
    "\n",
    "output: -2.0, -3.0\n",
    "\n"
   ]
  },
  {
   "cell_type": "code",
   "execution_count": 2,
   "id": "8763bd30",
   "metadata": {},
   "outputs": [],
   "source": [
    "def QuadraticRoots(a,b,c):\n",
    "    #your calculation to find the roots\n",
    "    \n",
    "    \n",
    " \n",
    "    return (x1,x2)\n"
   ]
  },
  {
   "cell_type": "markdown",
   "id": "19590376",
   "metadata": {},
   "source": [
    "### Question 3.\n",
    "Counting the number of letters, and digits in a string.\n",
    "Write a function CountLettersAndDigits(s) that takes a string s as input, and returns the count of letters, and digits in the string."
   ]
  },
  {
   "cell_type": "code",
   "execution_count": 11,
   "id": "77974dbc",
   "metadata": {},
   "outputs": [
    {
     "name": "stdout",
     "output_type": "stream",
     "text": [
      "(0, 0)\n"
     ]
    }
   ],
   "source": [
    "def CountLettersAndDigits(s):\n",
    "    #your code here\n",
    "    letter_count =0\n",
    "    digit_count =0\n",
    "    \n",
    "    \n",
    "    return (letter_count, digit_count)\n",
    "\n",
    "\n",
    "print(CountLettersAndDigits(\"Hello500\" ))"
   ]
  },
  {
   "cell_type": "markdown",
   "id": "a1ed6ec3",
   "metadata": {},
   "source": [
    "### Question 4. \n",
    "Find the valid password:\n",
    "\n",
    "Your company is building a website that asks your user to login with a username and password. \n",
    "Here are the rules of the password: \n",
    "\n",
    "\n",
    "a. The password must be atleast 8 characters long\n",
    "\n",
    "b. Must incude one Uppercase letter.\n",
    "\n",
    "c. Must include one lowercase letter\n",
    "\n",
    "d. Must contain at least one numeric digit\n",
    "\n",
    "e. Must only include Alphabets, and numeric i.e. [A-Za-z0-9]\n",
    "\n",
    "\n",
    "Write a function that validates a given password. \n",
    "\n",
    "example :  \n",
    "input : acab \n",
    "output : False\n",
    "\n",
    "input : acaB27uo\n",
    "output : True\n",
    "\n",
    "input: aca679B-$\n",
    "output: False\n",
    "\n",
    "\n",
    "Hint : use the len(), isalnum(),isalpha(),isdigit(),islower(), isupper()\n",
    "\n"
   ]
  },
  {
   "cell_type": "code",
   "execution_count": 4,
   "id": "e3b579fe",
   "metadata": {},
   "outputs": [
    {
     "name": "stdout",
     "output_type": "stream",
     "text": [
      "False\n",
      "False\n",
      "False\n",
      "False\n",
      "False\n"
     ]
    }
   ],
   "source": [
    "\n",
    "def ValidatePassword(passwd):\n",
    "    #your code here\n",
    "    isValid = False\n",
    "    \n",
    "    \n",
    "    return isValid\n",
    "\n",
    "\n",
    "print(ValidatePassword('acaB27uo'))\n",
    "print(ValidatePassword('aca27uo'))\n",
    "print(ValidatePassword('ACA27UOG)'))\n",
    "print(ValidatePassword('27000000'))\n",
    "print(ValidatePassword('aca27uoB047'))"
   ]
  },
  {
   "cell_type": "markdown",
   "id": "9baf298d",
   "metadata": {},
   "source": [
    "### Question 5\n",
    "Perform the following tasks:\n",
    "\n",
    "1. Create a dataframe from the list provided below. The columns should be named as the list names.\n",
    "2. Remove any leading and trailing spaces from categorical columns\n",
    "3. Set the invalid values as np.NaN for both categorical and quantitative columns\n",
    "4. Drop any rows with missing values(np.NaN)\n",
    "5. Find the following :\n",
    "    \n",
    "    a. First_Name, Last_Name,Score1 for the person who has the highest score in Score1\n",
    "    \n",
    "    b.  First_Name, Last_Name,Score2 for the person who has the highest score in Score2\n",
    "    \n",
    "    c.  First_Name, Last_Name,Score1 for the person who has the lowest score in Score1\n",
    "    \n",
    "    d.  First_Name, Last_Name,Score1 for the person(s) who scored > 80 in score1\n",
    "    \n",
    "    e.  First_Name, Last_Name,Score1, Score2 for the person(s) who scored > 90 in score1 and scored > 80 in Score2\n",
    "\n",
    "\n",
    "\n",
    "You don't need a function for this"
   ]
  },
  {
   "cell_type": "code",
   "execution_count": 10,
   "id": "0402c5e6",
   "metadata": {
    "scrolled": true
   },
   "outputs": [],
   "source": [
    "import pandas as pd\n",
    "import numpy as np\n",
    "\n",
    "First_Name = [\" Mary\",\"Arturo \", \" Prashant \", \"Harold \", \"Dhimant\", \"Viv\", \" Vladimir\", \" Mariia\", \"John\", \"Tom\"]\n",
    "Last_Name = [\" Z\",\" G \", \" T \", \"K \", \"M\", \"H \", \" F\", \" L\", \"$%^\", \"K\"]\n",
    "Score1 = [96,94,92,90 ,91, 95, 89, 82, 'abc', 59]\n",
    "Score2 = [86,82,76,74 ,80, 65, 89, 84, 'a', 56]\n",
    "\n"
   ]
  },
  {
   "cell_type": "code",
   "execution_count": null,
   "id": "81a8b54a",
   "metadata": {},
   "outputs": [],
   "source": []
  },
  {
   "cell_type": "markdown",
   "id": "8b09a23b",
   "metadata": {},
   "source": [
    "### Question6\n",
    "A fibonacci sequence is a series of numbers in the form of $0 , 1, 1, 2, 3, 5, 8, 13, 21, 34, 55 , .... $\n",
    "Each number starting at position 2 is the sum of its previous two numbers. \n",
    "\n",
    "Example : 2 is the sum of previous two numers 1, 1 \n",
    "          \n",
    "          8 is the sum of its previous two number 3,5 \n",
    "          \n",
    "\n",
    "Write a function that takes an input n , and returns a list with  all fibonnacis sequence upto n.\n",
    "\n",
    "Example:\n",
    "\n",
    "fibonacci(5) should return : [0,1,1,2,3]\n",
    "fibonacci(8) should return : [0,1,1,2,3, 5,8,13]\n",
    "\n",
    "Hint: initialize a list with the first 2 fibonccis 0,1 by hardcoding them.  Start your loop from position 2,  append the sum of the previous two items in the list. Continue until you have reached n:\n",
    "\n",
    "\n",
    "\n"
   ]
  },
  {
   "cell_type": "code",
   "execution_count": 9,
   "id": "e2b4fedd",
   "metadata": {},
   "outputs": [
    {
     "name": "stdout",
     "output_type": "stream",
     "text": [
      "None\n"
     ]
    }
   ],
   "source": [
    "def Fibonacci(n):\n",
    "    \n",
    "    #initialize your list here\n",
    "    \n",
    "    for i in range(2, n):\n",
    "        #your code here\n",
    "        pass\n",
    "        \n",
    "    \n",
    "    \n",
    "\n",
    "print(Fibonacci(8))\n",
    "    "
   ]
  },
  {
   "cell_type": "code",
   "execution_count": null,
   "id": "33fec3f6",
   "metadata": {},
   "outputs": [],
   "source": []
  }
 ],
 "metadata": {
  "kernelspec": {
   "display_name": "Python 3 (ipykernel)",
   "language": "python",
   "name": "python3"
  },
  "language_info": {
   "codemirror_mode": {
    "name": "ipython",
    "version": 3
   },
   "file_extension": ".py",
   "mimetype": "text/x-python",
   "name": "python",
   "nbconvert_exporter": "python",
   "pygments_lexer": "ipython3",
   "version": "3.9.7"
  }
 },
 "nbformat": 4,
 "nbformat_minor": 5
}
