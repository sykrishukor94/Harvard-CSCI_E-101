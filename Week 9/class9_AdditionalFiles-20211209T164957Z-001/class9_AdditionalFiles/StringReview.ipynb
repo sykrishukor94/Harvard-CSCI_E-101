{
 "cells": [
  {
   "cell_type": "markdown",
   "id": "d6983161",
   "metadata": {},
   "source": [
    "### Strings Review - Section Meeting###"
   ]
  },
  {
   "cell_type": "code",
   "execution_count": 30,
   "id": "bbeab378",
   "metadata": {},
   "outputs": [
    {
     "name": "stdout",
     "output_type": "stream",
     "text": [
      "Hello World\n",
      "Hello\n"
     ]
    }
   ],
   "source": [
    "#string concatenation \n",
    "\n",
    "string_1 = \"Hello\"\n",
    "string_2 =\" World\"\n",
    "string_3 = string_1 +string_2\n",
    "print(string_3)\n",
    "\n",
    "s2 =\"\"\n",
    "for s in string_1:\n",
    "    s2 = s2 + s\n",
    "\n",
    "print(s2)\n"
   ]
  },
  {
   "cell_type": "markdown",
   "id": "2124524d",
   "metadata": {},
   "source": [
    "### String slicing ###"
   ]
  },
  {
   "cell_type": "code",
   "execution_count": 32,
   "id": "8ec377af",
   "metadata": {},
   "outputs": [
    {
     "name": "stdout",
     "output_type": "stream",
     "text": [
      "['hello', 'gmail.com']\n"
     ]
    },
    {
     "data": {
      "text/plain": [
       "'gmail.com'"
      ]
     },
     "execution_count": 32,
     "metadata": {},
     "output_type": "execute_result"
    }
   ],
   "source": [
    "string_4 = \"hello@gmail.com\"\n",
    "\n",
    "splits = string_4.split('@')\n",
    "\n",
    "print(splits)\n",
    "splits[1][0:]\n",
    "\n"
   ]
  },
  {
   "cell_type": "code",
   "execution_count": 33,
   "id": "4064232d",
   "metadata": {},
   "outputs": [
    {
     "name": "stdout",
     "output_type": "stream",
     "text": [
      "Jane\n",
      "Doe\n",
      "Smith\n"
     ]
    }
   ],
   "source": [
    "name = \"Jane Doe Smith\"\n",
    "print(name[0:4])\n",
    "print(name[5:8])\n",
    "print(name[9:])"
   ]
  },
  {
   "cell_type": "code",
   "execution_count": 34,
   "id": "cf720158",
   "metadata": {},
   "outputs": [
    {
     "name": "stdout",
     "output_type": "stream",
     "text": [
      "ACEGIKMOQSUWY\n"
     ]
    }
   ],
   "source": [
    "letters = 'ABCDEFGHIJKLMNOPQRSTUVWXYZ'\n",
    "print(letters[0:26:2])\n"
   ]
  },
  {
   "cell_type": "markdown",
   "id": "2488b613",
   "metadata": {},
   "source": [
    "### Testing Strings"
   ]
  },
  {
   "cell_type": "code",
   "execution_count": 35,
   "id": "04a5c26a",
   "metadata": {},
   "outputs": [
    {
     "name": "stdout",
     "output_type": "stream",
     "text": [
      "hello@gmail.com\n",
      "Yes @ is in hello@gmail.com\n"
     ]
    }
   ],
   "source": [
    "print(string_4)\n",
    "\n",
    "if '@' in string_4:\n",
    "    print(\"Yes @ is in \" +string_4)"
   ]
  },
  {
   "cell_type": "code",
   "execution_count": 36,
   "id": "a8b03d77",
   "metadata": {},
   "outputs": [
    {
     "name": "stdout",
     "output_type": "stream",
     "text": [
      " ! not  in hello@gmail.com\n"
     ]
    }
   ],
   "source": [
    "if '!' not in string_4:\n",
    "    print(\" ! not  in \" +string_4)"
   ]
  },
  {
   "cell_type": "markdown",
   "id": "a77cb196",
   "metadata": {},
   "source": [
    "### String methods to know ###\n",
    "\n",
    "isalnum()\n",
    "\n",
    "isalpha()\n",
    "\n",
    "isdigit()\n",
    "\n",
    "islower()\n",
    "\n",
    "isspace()\n",
    "\n",
    "isupper()"
   ]
  },
  {
   "cell_type": "code",
   "execution_count": 37,
   "id": "d7ef358d",
   "metadata": {},
   "outputs": [
    {
     "data": {
      "text/plain": [
       "True"
      ]
     },
     "execution_count": 37,
     "metadata": {},
     "output_type": "execute_result"
    }
   ],
   "source": [
    "s5 = \"Hello5World\"\n",
    "s5.isalnum()"
   ]
  },
  {
   "cell_type": "code",
   "execution_count": 38,
   "id": "d27d5c32",
   "metadata": {},
   "outputs": [
    {
     "data": {
      "text/plain": [
       "False"
      ]
     },
     "execution_count": 38,
     "metadata": {},
     "output_type": "execute_result"
    }
   ],
   "source": [
    "s5 = \"Hello5World@\"\n",
    "s5.isalnum()"
   ]
  },
  {
   "cell_type": "markdown",
   "id": "2cbaec41",
   "metadata": {},
   "source": [
    "### Methods to modify string ###\n",
    "\n",
    "lower()\n",
    "\n",
    "upper()\n",
    "\n",
    "strip()\n",
    "\n",
    "strip(c) "
   ]
  },
  {
   "cell_type": "code",
   "execution_count": 39,
   "id": "85335ebc",
   "metadata": {},
   "outputs": [
    {
     "data": {
      "text/plain": [
       "'Hello5World@'"
      ]
     },
     "execution_count": 39,
     "metadata": {},
     "output_type": "execute_result"
    }
   ],
   "source": [
    "s5 = \" Hello5World@ \"\n",
    "s5.strip()"
   ]
  },
  {
   "cell_type": "code",
   "execution_count": 40,
   "id": "4394929d",
   "metadata": {},
   "outputs": [
    {
     "data": {
      "text/plain": [
       "'Hello5World'"
      ]
     },
     "execution_count": 40,
     "metadata": {},
     "output_type": "execute_result"
    }
   ],
   "source": [
    "s5 = \"Hello5World@\"\n",
    "s5.strip('@')"
   ]
  },
  {
   "cell_type": "markdown",
   "id": "85a08dc8",
   "metadata": {},
   "source": [
    "### Searching strings\n",
    "\n",
    "endswith(substring)\n",
    "\n",
    "find(substring)\n",
    "\n",
    "startswith(substring)\n",
    "\n",
    "replace(old_string, new_string)  \n"
   ]
  },
  {
   "cell_type": "code",
   "execution_count": 41,
   "id": "24fca140",
   "metadata": {},
   "outputs": [
    {
     "data": {
      "text/plain": [
       "True"
      ]
     },
     "execution_count": 41,
     "metadata": {},
     "output_type": "execute_result"
    }
   ],
   "source": [
    "#Examples\n",
    "\n",
    "s6 = \"hello@gmail.com\"\n",
    "\n",
    "s6.endswith(\".com\")\n"
   ]
  },
  {
   "cell_type": "code",
   "execution_count": 42,
   "id": "dc760c15",
   "metadata": {},
   "outputs": [
    {
     "data": {
      "text/plain": [
       "True"
      ]
     },
     "execution_count": 42,
     "metadata": {},
     "output_type": "execute_result"
    }
   ],
   "source": [
    "s7 = \"www.google.com\"\n",
    "s7.startswith(\"www\")"
   ]
  },
  {
   "cell_type": "code",
   "execution_count": null,
   "id": "f91693e5",
   "metadata": {},
   "outputs": [],
   "source": []
  }
 ],
 "metadata": {
  "kernelspec": {
   "display_name": "Python 3 (ipykernel)",
   "language": "python",
   "name": "python3"
  },
  "language_info": {
   "codemirror_mode": {
    "name": "ipython",
    "version": 3
   },
   "file_extension": ".py",
   "mimetype": "text/x-python",
   "name": "python",
   "nbconvert_exporter": "python",
   "pygments_lexer": "ipython3",
   "version": "3.9.7"
  }
 },
 "nbformat": 4,
 "nbformat_minor": 5
}
