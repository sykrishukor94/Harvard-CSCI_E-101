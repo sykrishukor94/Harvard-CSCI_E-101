{
 "cells": [
  {
   "cell_type": "markdown",
   "id": "3bcdac19",
   "metadata": {},
   "source": [
    "### CS101 - PSET Final Practice -Section Hours\n",
    "\n",
    "**Note: The pset is meant for practice, and does not simulate the actual final exam.***\n",
    "\n",
    "datasets:\n",
    "\n",
    " https://www.kaggle.com/ishaanv/ISLR-Auto?select=Advertising.csv\n",
    "\n",
    "https://r-data.pmagunia.com/dataset/r-dataset-package-islr-default"
   ]
  },
  {
   "cell_type": "code",
   "execution_count": null,
   "id": "5ca8b242",
   "metadata": {},
   "outputs": [],
   "source": [
    "import pandas as pd\n",
    "import numpy as np\n",
    "import statsmodels.formula.api as sm\n",
    "from sklearn.linear_model import LinearRegression, LogisticRegression\n",
    "from sklearn.model_selection import train_test_split\n",
    "from sklearn.metrics import mean_squared_error\n",
    "import scipy.stats as stat\n",
    "\n"
   ]
  },
  {
   "cell_type": "markdown",
   "id": "d1328c10",
   "metadata": {},
   "source": [
    "### Question-1\n",
    "\n",
    "**Tea and Immune System** \n",
    "\n",
    "A study was conducted to test if drinking tea increases interferon gamma ( a molecule known to increase immune system)  in individuals because of presence of L-theanine. Two groups were randomly selected. One group of 11 individuals were asked to drink 5-6 cups of tea everyday. A second group was asked to drink the same amount of coffee which contains caffeine but no L-theanine. \n",
    "\n",
    "-1.Identify if this is an independent test of two means or paired difference in means\n",
    "\n",
    "-2. Create numpy array for the 2 groups of data.\n",
    "\n",
    "-2.Use the t-distribution to test if the mean interferon gamma is higher for tea drinkers vs coffee drinkers.  \n",
    "\n",
    "-State your conclusion i.e. does drinking tea increase interferon gamma in individuals at alpha=0.05\n",
    "\n",
    "\n",
    "**Source**\n",
    "Adapted from Kamath, et.al., \"Antigens in tea-Beverage prime human V 2V2 T cells in vitro and in\n",
    "vivo for memory and non-memory antibacterial cytokine responses\", Proceedings of the National\n",
    "Academy of Sciences, May 13, 2003\n"
   ]
  },
  {
   "cell_type": "code",
   "execution_count": null,
   "id": "58cb6f9e",
   "metadata": {},
   "outputs": [],
   "source": [
    "immune = pd.read_csv(\"ImmuneTea.csv\")\n",
    "\n",
    "#your code here\n",
    "\n",
    "\n",
    "\n"
   ]
  },
  {
   "cell_type": "markdown",
   "id": "974c1856",
   "metadata": {},
   "source": [
    "### Question -2 \n",
    "\n",
    "Numpy allows you to build multi-dimensional arrays. It can perform fast numerical computations, takes less space than lists, and also allows you to perform numerical calculations without loops. \n",
    "\n",
    "In this excercise we will work on reshape function that numpy provide. \n",
    "\n",
    "First run the cells below to see how you can use reshape to convert your array to different shape"
   ]
  },
  {
   "cell_type": "code",
   "execution_count": null,
   "id": "a3eb8df5",
   "metadata": {},
   "outputs": [],
   "source": [
    "array1d = np.arange(1,11)\n",
    "print(\"1-D array (vector) with 10 elements ->\", array1d)\n",
    "\n",
    "#you can change a vector to row or column  matrix \n",
    "\n",
    "array_row_matrix =  array1d.reshape(-1,1)\n",
    "print(\"\\nvector converted to a row matrix  ->\\n\", array_row_matrix)\n",
    "\n",
    "array_col_matrix =  array1d.reshape(1,-1)\n",
    "print(\"\\nvector converted to a column matrix  ->\\n\", array_col_matrix)\n",
    "\n",
    "\n",
    "array_2d =  array1d.reshape(5,2)\n",
    "print(\"\\nvector converted to a 5 X 2 2-D array->\\n\", array_2d)"
   ]
  },
  {
   "cell_type": "markdown",
   "id": "e92fb1fe",
   "metadata": {},
   "source": [
    "***You are given a numpy array (vector) which has 30 cells.  Reshape it to a 2-d array which has 5 rows and and 6 columns***\n",
    "\n",
    "***Make sure you look at the output to understand the shape of this new array i.e. 2-D shape as shown [ [ ] ]. If it helps think in terms of pandas dataframe. After creating your 2-d array try and visualize it in pandas by calling pd.DataFrame(your_2darray) ***"
   ]
  },
  {
   "cell_type": "code",
   "execution_count": null,
   "id": "af48de66",
   "metadata": {},
   "outputs": [],
   "source": [
    "array1d = np.arange(0,30)\n",
    "#your code here\n"
   ]
  },
  {
   "attachments": {
    "pval_sshot.PNG": {
     "image/png": "[encoded data removed]"
    }
   },
   "cell_type": "markdown",
   "id": "eabccd52",
   "metadata": {},
   "source": [
    "### Question -3 \n",
    "\n",
    "Linear Regression with statsmodel api\n",
    "You are given a dataset which includes the data from a company sales based on the amount of money spent on advertising on TV, Radio and Newspaper. Sales is the dependent or response variable. TV, Radio and Newspaper. The values in the data are in 1000$ meaning  if TV= 1 it means it is 1000, and same for Sales, Radio, Newspaper etc. \n",
    "\n",
    "\n",
    "1. Run the cell below and look at the results summary provided by stats model.\n",
    "\n",
    "\n",
    "2. Which predictors are significant ?\n",
    "\n",
    "\n",
    "3. Write code to extract the significant predictors and their p-value and store it in a dataframe which has 2 columns called Predictor and pvalue. Exclude the intercept. \n",
    "\n",
    "\n",
    "4. Print the dataframe showing the significant predictor and their p-values.  If 2 predictors are significant, you will get \n",
    "2 observations. example\n",
    "\n",
    "![pval_sshot.PNG](attachment:pval_sshot.PNG)\n",
    "\n",
    " \n",
    "5. Derive the R-squared , and Adjusted R-squared and print them\n",
    " "
   ]
  },
  {
   "cell_type": "code",
   "execution_count": null,
   "id": "8f9de82f",
   "metadata": {},
   "outputs": [],
   "source": [
    "df = pd.read_csv(\"advertising.csv\")\n",
    "df.head(2)"
   ]
  },
  {
   "cell_type": "code",
   "execution_count": null,
   "id": "81cb4745",
   "metadata": {},
   "outputs": [],
   "source": [
    "#run the cell below\n",
    "regression_model = sm.ols(formula=\"Sales~TV+Radio+Newspaper\",data=df)\n",
    "results = regression_model.fit()\n",
    "results.summary()"
   ]
  },
  {
   "cell_type": "code",
   "execution_count": null,
   "id": "21bb8be4",
   "metadata": {},
   "outputs": [],
   "source": [
    "#your code here to extract the significant predictors, and store it in a dataframe. \n",
    "\n",
    "\n",
    "\n",
    "#your code to print the r-square and adj r-square values.\n",
    "\n",
    "\n",
    "#show the df \n",
    "\n"
   ]
  },
  {
   "cell_type": "markdown",
   "id": "16941c89",
   "metadata": {},
   "source": [
    "### Question-4 Sklearn \n",
    "1. Split the data in to train and test with 30% test data. Use random state =1\n",
    "2. Use the train data fit linear regression model using all the predictors \n",
    "3. Print the test, and train R-squared "
   ]
  },
  {
   "cell_type": "code",
   "execution_count": null,
   "id": "711ff431",
   "metadata": {},
   "outputs": [],
   "source": [
    "#your code here\n",
    "X= df.drop(\"Sales\", axis=1)\n",
    "y= df['Sales']\n",
    "\n",
    "\n",
    "\n"
   ]
  },
  {
   "cell_type": "markdown",
   "id": "90cc6104",
   "metadata": {},
   "source": [
    "###### What is the equation of this line? You will need the intercept, and coefs from the model you trained using sklearn. Use the equation to answer the next 2 questions"
   ]
  },
  {
   "cell_type": "code",
   "execution_count": null,
   "id": "4b55a875",
   "metadata": {},
   "outputs": [],
   "source": [
    "#your code here"
   ]
  },
  {
   "cell_type": "markdown",
   "id": "7f9d1be5",
   "metadata": {},
   "source": [
    "your equation here:"
   ]
  },
  {
   "cell_type": "markdown",
   "id": "d96a6946",
   "metadata": {},
   "source": [
    "##### If the company was to spend 200 on TV, 100 on Radio and 100 on Newspaper ads , what is the sales ? "
   ]
  },
  {
   "cell_type": "code",
   "execution_count": 1,
   "id": "6fd2c7a8",
   "metadata": {},
   "outputs": [],
   "source": [
    "#your code here"
   ]
  },
  {
   "cell_type": "markdown",
   "id": "7998a69d",
   "metadata": {},
   "source": [
    "##### If the company was to spend 200 on TV, 100 on Radio and  0 on Newspaper ads , what is the sales ? What differences do you observe when comparing to the above prediction? "
   ]
  },
  {
   "cell_type": "code",
   "execution_count": 2,
   "id": "bc13c26e",
   "metadata": {},
   "outputs": [],
   "source": [
    "#your code here"
   ]
  },
  {
   "cell_type": "markdown",
   "id": "1113b9ab",
   "metadata": {},
   "source": [
    "#your answer here"
   ]
  },
  {
   "cell_type": "markdown",
   "id": "d0a6f66e",
   "metadata": {},
   "source": [
    "### Question-5 Binary Logistic Regression with Sklearn\n",
    "\n",
    "You will often have to work with classification problems. Ex: detecting fraud, identifying heart disease. \n",
    "\n",
    "1. Read the data from default.csv. The response is default (meaning whether the customer defaulted in his payments or not). Theh predictors are student, balance, and income. \n",
    "\n",
    "2. Change the default column values to 1 for Yes, and 0 for no.\n",
    "\n",
    "3. create dummies for student with prefix student \n",
    "\n",
    "4. split the data with test size 0.3 and random state =1\n",
    "\n",
    "5. fit the model, get the predictions for test data,  and print your accuracy on both train and test data\n",
    "\n"
   ]
  },
  {
   "cell_type": "code",
   "execution_count": null,
   "id": "8a739e70",
   "metadata": {},
   "outputs": [],
   "source": [
    "df = pd.read_csv(\"default.csv\")\n",
    "\n",
    "\n"
   ]
  },
  {
   "cell_type": "markdown",
   "id": "e31b8c10",
   "metadata": {},
   "source": [
    "##### Confusion matrix \n",
    "run the cells below"
   ]
  },
  {
   "cell_type": "code",
   "execution_count": null,
   "id": "ab005ca7",
   "metadata": {},
   "outputs": [],
   "source": [
    "from sklearn.metrics import confusion_matrix\n",
    "cf_matrix = confusion_matrix(y_test, y_pred_test)\n",
    "cf_matrix\n"
   ]
  },
  {
   "cell_type": "markdown",
   "id": "f9ec163e",
   "metadata": {},
   "source": [
    "##### Identify the True Positive, and True Negative and print them from the confusion matrix (with code)"
   ]
  },
  {
   "cell_type": "code",
   "execution_count": null,
   "id": "81f70a47",
   "metadata": {},
   "outputs": [],
   "source": [
    "#your code here"
   ]
  },
  {
   "cell_type": "code",
   "execution_count": null,
   "id": "25184d7e",
   "metadata": {},
   "outputs": [],
   "source": []
  },
  {
   "cell_type": "markdown",
   "id": "10647083",
   "metadata": {},
   "source": [
    "### Question-6 Object Oriented Programming\n",
    "\n",
    "You work for a startup who wants to offer banking products to their customers. Their first product is credit card, and plans to add other products such as checking, and savings in the future. You are tasked to design a software for credit card. However, you want to make sure the software you design can be re-used for other products as well. For this problem you will design a first class implementation of a base class BankAccount, and subclass CreditCard based on the specifications below:\n",
    "\n",
    "BankAccount:\n",
    "private attributes : name, account_number \n",
    "\n",
    "public attributes : address\n",
    "\n",
    "\n",
    "CreditCard:\n",
    "\n",
    "private attributes:\n",
    " \n",
    "credit_card_number \n",
    "\n",
    "credit_line : is the total credit line\n",
    "\n",
    "balance: The current balance on the credit card\n",
    "\n",
    "credit_available : calculated as credit_line - current_balance\n",
    "\n",
    "\n",
    "Methods:\n",
    "\n",
    "Transact : see the method signature below\n",
    "\n",
    "get_balance : returns the current_balance\n",
    "\n",
    "-----------------------------------------------------\n",
    "For this excercise we will only focus on the transaction part. \n",
    "\n"
   ]
  },
  {
   "cell_type": "code",
   "execution_count": null,
   "id": "8d06be93",
   "metadata": {},
   "outputs": [],
   "source": [
    "class BankAccount:\n",
    "  #your code here\n",
    "        \n",
    "        \n",
    "class CreditCard(BankAccount):\n",
    "   #your code here\n",
    "        \n",
    "    \n",
    "    def Transact(self, description,amount):\n",
    "        \"\"\"\n",
    "        Simulates a transaction of a credit card with the following rules :\n",
    "        \n",
    "        1. transcation should only go through if the credit available is greater than or equal \n",
    "        to the amount of transaction.\n",
    "       \n",
    "        2. If the transaction is success , assign a unique transaction id , and store each of the transaction in \n",
    "        a dictionary with transaction id as key, and description, amount, and current balance as value in a list. \n",
    "        The dictionary should be declared in the constructor. \n",
    "        Example to store your transactions in dict called transact_dict:\n",
    "        self.__transact_dict [transaction_id] = [description, amount, balance]\n",
    "        \n",
    "        3. Keeps track of credit available and balance at each transaction\n",
    "        \n",
    "        :param description: string, the description of the transaction\n",
    "        :param amount: float, the transaction amount\n",
    "        \n",
    "        :returns : the string success if the transaction goes through , declined otherwise\n",
    "        \n",
    "        \"\"\"\n",
    "        \n",
    "        #your code here\n",
    "            \n",
    "        \n",
    "    def Statement(self):\n",
    "        stat = pd.DataFrame(self.__transact_dict.keys(), columns=['TransactionId'])\n",
    "        temp = np.array(list(self.__transact_dict.values()))\n",
    "        stat['Description'] = temp[:,0]\n",
    "        stat['amount'] = temp[:,1]\n",
    "        stat['balance'] = temp[:,2]\n",
    "        stat.set_index(stat['TransactionId'], inplace=True)\n",
    "        stat.drop('TransactionId', axis=1, inplace=True)\n",
    "        print(stat)\n",
    "        \n",
    "\n",
    "        \n"
   ]
  },
  {
   "cell_type": "code",
   "execution_count": null,
   "id": "f80de1e5",
   "metadata": {
    "scrolled": true
   },
   "outputs": [],
   "source": [
    "\n",
    "# create an account for Toph -> name , account number, address, credit card number, credit limit\n",
    "toph = CreditCard(\"Toph Beifong\", \"10004001\", \"Dallas\", \"1000100001333333\", 100000)\n",
    "print(toph.Transact(\"EVDealership TSLA\", 70000))\n",
    "print(toph.get_balance())\n",
    "print(toph.Transact(\"EVDealership TSLA SUV\", 100000))\n",
    "print(toph.Transact(\"Target \", 100))\n",
    "toph.Statement()\n",
    "\n"
   ]
  },
  {
   "cell_type": "code",
   "execution_count": null,
   "id": "2215f185",
   "metadata": {},
   "outputs": [],
   "source": [
    "# create an account for Aang -> name , account number, address, credit card number, credit limit\n",
    "aang = CreditCard(\"Aang Avatar\", \"10004001\", \"Austin\", \"1000100001333334\", 10000)\n",
    "print(aang.Transact(\"EVDealership TSLA\", 35000))\n",
    "print(aang.get_balance())\n",
    "print(aang.Transact(\"North Face\", 100))\n",
    "aang.Statement()"
   ]
  },
  {
   "cell_type": "code",
   "execution_count": null,
   "id": "b122a94d",
   "metadata": {},
   "outputs": [],
   "source": []
  },
  {
   "cell_type": "markdown",
   "id": "4c32eaa3",
   "metadata": {},
   "source": [
    "### Question -7 Natural Language Processing (NLP)\n",
    "\n",
    "Natural language processing (NLP) is a subfield of linguistics, computer science, and artificial intelligence concerned with the interactions between computers and human language, in particular how to program computers to process and analyze large amounts of natural language data.\n",
    "https://en.wikipedia.org/wiki/Natural_language_processing\n",
    "\n",
    "\n",
    "You have seen examples of NLP being used when you call a customer service. It is also widely used for analyzing sentiment. For example , hedge funds use models that use NLP to analyze news regarding a compay. There are actually strategies build for trading just based on the sentiment of the news.   \n",
    "\n",
    "So far you have seen how linear regression models and Logistic Regression models are built. For each of these models,\n",
    "you had data with response , and predictors. You have worked mostly with quantitative data, and have also seen that\n",
    "when you have text data that you want to use as features you created dummy variables. In other words you converted them to quantitative variable so that machine learning algorithms can understand them. \n",
    "\n",
    "A large part of NLP is pre-processing of text data to create features or predictors so that you can use it to make models\n",
    "such as sentiment models or even train models to understand what a person is saying, and use artificial intelligence to\n",
    "take action based on the text. \n",
    "\n",
    "NLP has been there for a long time. There are many libraries used for pre-processing the text. We will look at an example below. We are only pre-processing the data. We are not actually building any model. Obviously, you will build models\n",
    "if you take a NLP class.\n",
    "\n",
    "\n",
    "Library:\n",
    "\n",
    "NLTK https://www.nltk.org/ Free and open source. It provides easy-to-use interfaces to over 50 corpora and lexical resources such as WordNet, along with a suite of text processing libraries for classification, tokenization, stemming, tagging, parsing, and semantic reasoning, wrappers for industrial-strength NLP libraries, and an active discussion forum. NLTK has been called \"a wonderful tool for teaching, and working in, computational linguistics using Python,\" and \"an amazing library to play with natural language.\"\n",
    "\n",
    "\n",
    "References :\n",
    "https://realpython.com/nltk-nlp-python/"
   ]
  },
  {
   "cell_type": "code",
   "execution_count": 3,
   "id": "60493d68",
   "metadata": {},
   "outputs": [],
   "source": [
    "from nltk.tokenize import word_tokenize\n",
    "from nltk.corpus import stopwords\n",
    "from nltk import FreqDist\n",
    "from nltk.stem import PorterStemmer\n",
    "from nltk.stem import WordNetLemmatizer"
   ]
  },
  {
   "cell_type": "markdown",
   "id": "93b05a6c",
   "metadata": {},
   "source": [
    "##### For this excercise read the notes and run each cell . If you don't have NLTK installed,  just look at the outputs"
   ]
  },
  {
   "cell_type": "code",
   "execution_count": 4,
   "id": "ebc14e9a",
   "metadata": {},
   "outputs": [],
   "source": [
    "ex_str =\"I bought this for my husband who plays the piano.  He is having a wonderful time playing these old hymns.\\\n",
    "The music  is at times hard to read because we think the book was published for singing from more than playing from.\\\n",
    "Great purchase though!\"\n"
   ]
  },
  {
   "cell_type": "markdown",
   "id": "8393fe2a",
   "metadata": {},
   "source": [
    "##### Tokenizing\n",
    "The process includes diving a piece of text into smaller texts like words or sentences. \n",
    "We could divide paragraphs into sentences, sentences into words, as well as words into characters"
   ]
  },
  {
   "cell_type": "code",
   "execution_count": 5,
   "id": "24c305ce",
   "metadata": {},
   "outputs": [
    {
     "data": {
      "text/plain": [
       "['I',\n",
       " 'bought',\n",
       " 'this',\n",
       " 'for',\n",
       " 'my',\n",
       " 'husband',\n",
       " 'who',\n",
       " 'plays',\n",
       " 'the',\n",
       " 'piano',\n",
       " '.',\n",
       " 'He',\n",
       " 'is',\n",
       " 'having',\n",
       " 'a',\n",
       " 'wonderful',\n",
       " 'time',\n",
       " 'playing',\n",
       " 'these',\n",
       " 'old',\n",
       " 'hymns.The',\n",
       " 'music',\n",
       " 'is',\n",
       " 'at',\n",
       " 'times',\n",
       " 'hard',\n",
       " 'to',\n",
       " 'read',\n",
       " 'because',\n",
       " 'we',\n",
       " 'think',\n",
       " 'the',\n",
       " 'book',\n",
       " 'was',\n",
       " 'published',\n",
       " 'for',\n",
       " 'singing',\n",
       " 'from',\n",
       " 'more',\n",
       " 'than',\n",
       " 'playing',\n",
       " 'from.Great',\n",
       " 'purchase',\n",
       " 'though',\n",
       " '!']"
      ]
     },
     "execution_count": 5,
     "metadata": {},
     "output_type": "execute_result"
    }
   ],
   "source": [
    "#We will split the sentence into words\n",
    "my_words = word_tokenize(ex_str.strip())\n",
    "my_words"
   ]
  },
  {
   "cell_type": "markdown",
   "id": "6b4145fd",
   "metadata": {},
   "source": [
    "### Stopwords\n",
    "\n",
    "These are the words that you generally ignore. For example words like i , me , an, myself, don't etc . Next we will fiter these words.\n"
   ]
  },
  {
   "cell_type": "code",
   "execution_count": 6,
   "id": "35084ad6",
   "metadata": {},
   "outputs": [
    {
     "name": "stdout",
     "output_type": "stream",
     "text": [
      "Stopwords in English:\n",
      "\n",
      " ['i', 'me', 'my', 'myself', 'we', 'our', 'ours', 'ourselves', 'you', \"you're\", \"you've\", \"you'll\", \"you'd\", 'your', 'yours', 'yourself', 'yourselves', 'he', 'him', 'his', 'himself', 'she', \"she's\", 'her', 'hers', 'herself', 'it', \"it's\", 'its', 'itself', 'they', 'them', 'their', 'theirs', 'themselves', 'what', 'which', 'who', 'whom', 'this', 'that', \"that'll\", 'these', 'those', 'am', 'is', 'are', 'was', 'were', 'be', 'been', 'being', 'have', 'has', 'had', 'having', 'do', 'does', 'did', 'doing', 'a', 'an', 'the', 'and', 'but', 'if', 'or', 'because', 'as', 'until', 'while', 'of', 'at', 'by', 'for', 'with', 'about', 'against', 'between', 'into', 'through', 'during', 'before', 'after', 'above', 'below', 'to', 'from', 'up', 'down', 'in', 'out', 'on', 'off', 'over', 'under', 'again', 'further', 'then', 'once', 'here', 'there', 'when', 'where', 'why', 'how', 'all', 'any', 'both', 'each', 'few', 'more', 'most', 'other', 'some', 'such', 'no', 'nor', 'not', 'only', 'own', 'same', 'so', 'than', 'too', 'very', 's', 't', 'can', 'will', 'just', 'don', \"don't\", 'should', \"should've\", 'now', 'd', 'll', 'm', 'o', 're', 've', 'y', 'ain', 'aren', \"aren't\", 'couldn', \"couldn't\", 'didn', \"didn't\", 'doesn', \"doesn't\", 'hadn', \"hadn't\", 'hasn', \"hasn't\", 'haven', \"haven't\", 'isn', \"isn't\", 'ma', 'mightn', \"mightn't\", 'mustn', \"mustn't\", 'needn', \"needn't\", 'shan', \"shan't\", 'shouldn', \"shouldn't\", 'wasn', \"wasn't\", 'weren', \"weren't\", 'won', \"won't\", 'wouldn', \"wouldn't\"]\n"
     ]
    }
   ],
   "source": [
    "print(\"Stopwords in English:\\n\\n\", stopwords.words(\"english\"))"
   ]
  },
  {
   "cell_type": "code",
   "execution_count": 7,
   "id": "9a38f92c",
   "metadata": {},
   "outputs": [
    {
     "data": {
      "text/plain": [
       "['I',\n",
       " 'bought',\n",
       " 'husband',\n",
       " 'plays',\n",
       " 'piano',\n",
       " 'He',\n",
       " 'wonderful',\n",
       " 'time',\n",
       " 'playing',\n",
       " 'old',\n",
       " 'music',\n",
       " 'times',\n",
       " 'hard',\n",
       " 'read',\n",
       " 'think',\n",
       " 'book',\n",
       " 'published',\n",
       " 'singing',\n",
       " 'playing',\n",
       " 'purchase',\n",
       " 'though']"
      ]
     },
     "execution_count": 7,
     "metadata": {},
     "output_type": "execute_result"
    }
   ],
   "source": [
    "#filter our text by removing stopwords\n",
    "MyStopWords = set(stopwords.words(\"english\"))\n",
    "filteredWords = []\n",
    "for word in my_words:\n",
    "    if word not in MyStopWords and word.isalpha():\n",
    "        filteredWords.append(word)\n",
    "filteredWords"
   ]
  },
  {
   "cell_type": "markdown",
   "id": "a38ec97d",
   "metadata": {},
   "source": [
    "###  Stemming / Lemmatization\n",
    "\n",
    "Stemming removes any prefixes, and suffixes from words so they are in simpler forms which are called stems. \n"
   ]
  },
  {
   "cell_type": "code",
   "execution_count": 10,
   "id": "5d853103",
   "metadata": {},
   "outputs": [
    {
     "data": {
      "text/plain": [
       "['i',\n",
       " 'bought',\n",
       " 'husband',\n",
       " 'play',\n",
       " 'piano',\n",
       " 'he',\n",
       " 'wonder',\n",
       " 'time',\n",
       " 'play',\n",
       " 'old',\n",
       " 'music',\n",
       " 'time',\n",
       " 'hard',\n",
       " 'read',\n",
       " 'think',\n",
       " 'book',\n",
       " 'publish',\n",
       " 'sing',\n",
       " 'play',\n",
       " 'purchas',\n",
       " 'though']"
      ]
     },
     "execution_count": 10,
     "metadata": {},
     "output_type": "execute_result"
    }
   ],
   "source": [
    "#reduce the words in to their simpler forms\n",
    "ps = PorterStemmer()\n",
    "stemWords = []\n",
    "\n",
    "for word in filteredWords:\n",
    "    stemWords.append(ps.stem(word))\n",
    "\n",
    "stemWords"
   ]
  },
  {
   "cell_type": "code",
   "execution_count": 11,
   "id": "6669a505",
   "metadata": {},
   "outputs": [
    {
     "name": "stdout",
     "output_type": "stream",
     "text": [
      "play:3\n",
      "time:2\n",
      "i:1\n",
      "bought:1\n",
      "husband:1\n",
      "piano:1\n",
      "he:1\n",
      "wonder:1\n",
      "old:1\n",
      "music:1\n"
     ]
    },
    {
     "data": {
      "image/png": "[encoded data removed]",
      "text/plain": [
       "<Figure size 432x288 with 1 Axes>"
      ]
     },
     "metadata": {
      "needs_background": "light"
     },
     "output_type": "display_data"
    },
    {
     "data": {
      "text/plain": [
       "<AxesSubplot:title={'center':'Top 10 words'}, xlabel='Samples', ylabel='Counts'>"
      ]
     },
     "execution_count": 11,
     "metadata": {},
     "output_type": "execute_result"
    }
   ],
   "source": [
    "#You can look at the frequency, and plot it to see which words appear more frequently.\n",
    "freq = FreqDist(stemWords)\n",
    "\n",
    "for word, frequency in freq.most_common(10):\n",
    "      print(\"{}:{}\".format(word, frequency))\n",
    "\n",
    "#plot frequency for top 30\n",
    "freq.plot(10,title=\"Top 10 words\", linewidth=10, color=\"g\")\n"
   ]
  },
  {
   "cell_type": "markdown",
   "id": "1146ebd8",
   "metadata": {},
   "source": [
    "All we did was some pre-processing to simplify our text to be useful. There is lot need to be said and done for actually creating a model from texts. "
   ]
  },
  {
   "cell_type": "markdown",
   "id": "e0b165c2",
   "metadata": {},
   "source": [
    "#### That is all for today. I wish you all the best for your final exams. Thank you!"
   ]
  },
  {
   "cell_type": "code",
   "execution_count": null,
   "id": "758244e0",
   "metadata": {},
   "outputs": [],
   "source": []
  }
 ],
 "metadata": {
  "kernelspec": {
   "display_name": "Python 3 (ipykernel)",
   "language": "python",
   "name": "python3"
  },
  "language_info": {
   "codemirror_mode": {
    "name": "ipython",
    "version": 3
   },
   "file_extension": ".py",
   "mimetype": "text/x-python",
   "name": "python",
   "nbconvert_exporter": "python",
   "pygments_lexer": "ipython3",
   "version": "3.9.7"
  }
 },
 "nbformat": 4,
 "nbformat_minor": 5
}
