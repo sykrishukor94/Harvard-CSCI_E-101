{
 "cells": [
  {
   "cell_type": "markdown",
   "id": "b48c933c",
   "metadata": {},
   "source": [
    "### Problem -2\n",
    "\n",
    "Import the descriptivestats module that you created in Problem 1. Find the mean, variance , and std.deviation using the instance of DescriptiveStats class for the given list of midterm scores.\n"
   ]
  },
  {
   "cell_type": "code",
   "execution_count": 1,
   "id": "1a3dfcad",
   "metadata": {},
   "outputs": [],
   "source": [
    "#your code \n",
    "\n",
    "midterm_scores = [75, 74, 73, 80, 85, 86, 90, 92, 68, 55, 35, 92, 94, 96, 98]\n",
    "\n",
    "\n"
   ]
  },
  {
   "cell_type": "markdown",
   "id": "e22674da",
   "metadata": {},
   "source": [
    "### Problem 3 - using class, inheritance, encapsulation, and polymorphism\n",
    "\n",
    "\n",
    "Let's say you love animals and decide to write a software to catalog all the mammals. \n",
    "\n",
    "There are many mammals , and you decided to start with dogs, and cats. \n",
    "\n",
    "1. Create a class called Mammal with the attributes species(private), and methods species_information() that shows\n",
    "the species. Add a general method called sound() which prints \"Grrrrr\"\n",
    "\n",
    "2. Create a subclass Dog from Mammal. Override the sound() method to print \"Woof Woof\"\n",
    "\n",
    "3. Create a subclass Cat from Mammal. Override the sound() method to print \"Meow Meow\"\n",
    "\n",
    "For both Dog and Cat class add an attribute name, we definitely want them to have names.\n",
    "\n",
    "Demonstrate instances of Dog, and Cat class in a simple program. \n",
    "\n"
   ]
  },
  {
   "cell_type": "code",
   "execution_count": 5,
   "id": "a1e93a7e",
   "metadata": {},
   "outputs": [],
   "source": [
    "class Mammal:\n",
    "    \n",
    "    def __init__(self, species):\n",
    "        self.__species = species \n",
    "        self.sound = \"Grrrrr\"\n",
    "    \n",
    "    \n",
    "    def show_species(self):\n",
    "        print(self.__species)\n",
    "        \n",
    "        \n",
    "    def sound(self):\n",
    "        print(\"Grrrrr\")\n",
    "        \n",
    "        \n",
    "class Dog(Mammal):\n",
    "    def __init__(self):\n",
    "        super().__init__(self, \"Dog\" )\n",
    "        self.sound = \"Woof Woof\"\n",
    "        \n",
    "    \n",
    "    def sound(self):\n",
    "        print(\"Woof Woof\")\n",
    "        \n",
    "\n",
    "#your code here for class Cat\n",
    "class Cat(Mammal):\n",
    "    def __init__(self):\n",
    "        super().__init__(self, \"Cat\" )\n",
    "        self.sound = \"Meow Meow\"\n",
    "        \n",
    "    \n",
    "    def sound(self):\n",
    "        print(\"Meow Meow\")\n",
    "                \n",
    "    \n",
    "    "
   ]
  },
  {
   "cell_type": "code",
   "execution_count": 7,
   "id": "a59fe5fa",
   "metadata": {},
   "outputs": [
    {
     "ename": "TypeError",
     "evalue": "'str' object is not callable",
     "output_type": "error",
     "traceback": [
      "\u001b[1;31m---------------------------------------------------------------------------\u001b[0m",
      "\u001b[1;31mTypeError\u001b[0m                                 Traceback (most recent call last)",
      "\u001b[1;32m~\\AppData\\Local\\Temp/ipykernel_41836/1855815710.py\u001b[0m in \u001b[0;36m<module>\u001b[1;34m\u001b[0m\n\u001b[0;32m      1\u001b[0m \u001b[1;31m# your code to create instances\u001b[0m\u001b[1;33m\u001b[0m\u001b[1;33m\u001b[0m\u001b[0m\n\u001b[0;32m      2\u001b[0m \u001b[0mmammal\u001b[0m \u001b[1;33m=\u001b[0m \u001b[0mMammal\u001b[0m\u001b[1;33m(\u001b[0m\u001b[0mDog\u001b[0m\u001b[1;33m)\u001b[0m\u001b[1;33m\u001b[0m\u001b[1;33m\u001b[0m\u001b[0m\n\u001b[1;32m----> 3\u001b[1;33m \u001b[0mmammal\u001b[0m\u001b[1;33m.\u001b[0m\u001b[0msound\u001b[0m\u001b[1;33m(\u001b[0m\u001b[1;33m)\u001b[0m\u001b[1;33m\u001b[0m\u001b[1;33m\u001b[0m\u001b[0m\n\u001b[0m",
      "\u001b[1;31mTypeError\u001b[0m: 'str' object is not callable"
     ]
    }
   ],
   "source": [
    "# your code to create instances\n",
    "mammal = Mammal(Dog)\n",
    "mammal.sound()"
   ]
  },
  {
   "cell_type": "markdown",
   "id": "7630ee9e",
   "metadata": {},
   "source": [
    "### Discuss Encapsulation, inheritance, and polymorphism "
   ]
  },
  {
   "cell_type": "code",
   "execution_count": null,
   "id": "428b8e8e",
   "metadata": {},
   "outputs": [],
   "source": []
  }
 ],
 "metadata": {
  "kernelspec": {
   "display_name": "Python 3 (ipykernel)",
   "language": "python",
   "name": "python3"
  },
  "language_info": {
   "codemirror_mode": {
    "name": "ipython",
    "version": 3
   },
   "file_extension": ".py",
   "mimetype": "text/x-python",
   "name": "python",
   "nbconvert_exporter": "python",
   "pygments_lexer": "ipython3",
   "version": "3.9.7"
  }
 },
 "nbformat": 4,
 "nbformat_minor": 5
}
