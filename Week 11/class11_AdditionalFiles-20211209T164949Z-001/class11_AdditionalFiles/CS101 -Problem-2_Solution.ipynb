{
 "cells": [
  {
   "cell_type": "markdown",
   "id": "b48c933c",
   "metadata": {},
   "source": [
    "### Problem -2\n",
    "\n",
    "Import the descriptivestats module that you created in Problem 1. Find the mean, variance , and std.deviation using the instance of DescriptiveStats class for the given list of midterm scores.\n"
   ]
  },
  {
   "cell_type": "code",
   "execution_count": 1,
   "id": "1a3dfcad",
   "metadata": {},
   "outputs": [
    {
     "name": "stdout",
     "output_type": "stream",
     "text": [
      "mean of midterm_scores is 79.5333 \n",
      "variance of midterm_scores is 294.6952 \n",
      "std_dev of midterm_scores is 17.1667 \n"
     ]
    }
   ],
   "source": [
    "#your code \n",
    "import descriptivestats as stat\n",
    "midterm_scores = [75, 74, 73, 80, 85, 86, 90, 92, 68, 55, 35, 92, 94, 96, 98]\n",
    "\n",
    "stat_class = stat.DescriptiveStats(midterm_scores)\n",
    "\n",
    "\n",
    "\n",
    "\n",
    "print(f'mean of midterm_scores is {stat_class.mean():.4f} ')\n",
    "print(f'variance of midterm_scores is {stat_class.variance():.4f} ')\n",
    "print(f'std_dev of midterm_scores is {stat_class.std_dev():.4f} ')"
   ]
  },
  {
   "cell_type": "markdown",
   "id": "e22674da",
   "metadata": {},
   "source": [
    "### Problem 3 - using class, inheritance, encapsulation, and polymorphism\n",
    "\n",
    "\n",
    "Let's say you love animals and decide to write a software to catalog all the mammals. \n",
    "\n",
    "There are many mammals , and you decided to start with dogs, and cats. \n",
    "\n",
    "1. Create a class called Mammal with the attributes species(private), and methods species_information() that shows\n",
    "the species. Add a general method called sound() which prints \"Grrrrr\"\n",
    "\n",
    "2. Create a subclass Dog from Mammal. Override the sound() method to print \"Woof Woof\"\n",
    "\n",
    "3. Create a subclass Cat from Mammal. Override the sound() method to print \"Meow Meow\"\n",
    "\n",
    "For both Dog and Cat class add an attribute name, we definitely want them to have names.\n",
    "\n",
    "Demonstrate instances of Dog, and Cat class in a simple program. \n",
    "\n"
   ]
  },
  {
   "cell_type": "code",
   "execution_count": 6,
   "id": "a1e93a7e",
   "metadata": {},
   "outputs": [],
   "source": [
    "class Mammal:\n",
    "    \n",
    "    def __init__(self, species):\n",
    "        #your code here\n",
    "        self.__species = species\n",
    "    \n",
    "    \n",
    "    \n",
    "    def show_species(self):\n",
    "        #your code here\n",
    "        print(\"I am a \", self.__species)\n",
    "        \n",
    "        \n",
    "    def sound(self):\n",
    "        #your code here\n",
    "        print(\"Grr Grr\")\n",
    "\n",
    "        \n",
    "        \n",
    "class Dog(Mammal):\n",
    "    def __init__(self,name):\n",
    "        super().__init__(\"Dog\")\n",
    "        self.__name = name\n",
    "    \n",
    "    def show_name(self):\n",
    "        return self.__name\n",
    "        \n",
    "    \n",
    "    def sound(self):\n",
    "        #your code here\n",
    "        print(\"Woof Woof\")\n",
    "\n",
    "#your code here for class Cat\n",
    "\n",
    "class Cat(Mammal):\n",
    "    def __init__(self,name):\n",
    "        super().__init__(\"Cat\" )\n",
    "        self.__name = name\n",
    "        \n",
    "    \n",
    "    def sound(self):\n",
    "        #your code here\n",
    "        print(\"Meow Meow\")\n",
    "        \n",
    "    \n",
    "    "
   ]
  },
  {
   "cell_type": "code",
   "execution_count": 7,
   "id": "a59fe5fa",
   "metadata": {},
   "outputs": [
    {
     "name": "stdout",
     "output_type": "stream",
     "text": [
      "Woof Woof\n"
     ]
    }
   ],
   "source": [
    "# your code to create instances\n",
    "\n",
    "brody = Dog('brody')\n",
    "brody.sound()"
   ]
  },
  {
   "cell_type": "markdown",
   "id": "7630ee9e",
   "metadata": {},
   "source": [
    "### Discuss Encapsulation, inheritance, and polymorphism "
   ]
  },
  {
   "cell_type": "raw",
   "id": "57c4c9d5",
   "metadata": {},
   "source": []
  }
 ],
 "metadata": {
  "kernelspec": {
   "display_name": "Python 3 (ipykernel)",
   "language": "python",
   "name": "python3"
  },
  "language_info": {
   "codemirror_mode": {
    "name": "ipython",
    "version": 3
   },
   "file_extension": ".py",
   "mimetype": "text/x-python",
   "name": "python",
   "nbconvert_exporter": "python",
   "pygments_lexer": "ipython3",
   "version": "3.9.7"
  }
 },
 "nbformat": 4,
 "nbformat_minor": 5
}
