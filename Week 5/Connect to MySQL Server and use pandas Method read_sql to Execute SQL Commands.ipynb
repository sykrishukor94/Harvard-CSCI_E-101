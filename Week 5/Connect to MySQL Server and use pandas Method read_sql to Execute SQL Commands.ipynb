{
 "cells": [
  {
   "cell_type": "markdown",
   "metadata": {},
   "source": [
    "CSCI 101: Foundation of Data Science and Engineering<br>\n",
    "Author: Bruce Huang, Ph.D.<br>\n",
    "<br>\n",
    "Topics: Using pandas method read_sql to execute SQL commands such as SHOW DATABASES and SELECT<br>"
   ]
  },
  {
   "cell_type": "code",
   "execution_count": null,
   "metadata": {},
   "outputs": [],
   "source": [
    "# import MySQL-Python Connector\n",
    "import mysql.connector as sq\n",
    "\n",
    "# Connect to MySQL server\n",
    "mydb=sq.connect(host=\"localhost\",user=\"root\",passwd=\"ucla\", buffered=True)"
   ]
  },
  {
   "cell_type": "code",
   "execution_count": null,
   "metadata": {},
   "outputs": [],
   "source": [
    "# import pandas\n",
    "import pandas as pd\n",
    "\n",
    "# Use pandas method read_sql to get database list from MySQL server\n",
    "SQLCMD = \"SHOW DATABASES\"\n",
    "df = pd.read_sql(SQLCMD, mydb)"
   ]
  },
  {
   "cell_type": "code",
   "execution_count": null,
   "metadata": {},
   "outputs": [],
   "source": [
    "df\n"
   ]
  }
 ],
 "metadata": {
  "kernelspec": {
   "display_name": "Python 3 (ipykernel)",
   "language": "python",
   "name": "python3"
  },
  "language_info": {
   "codemirror_mode": {
    "name": "ipython",
    "version": 3
   },
   "file_extension": ".py",
   "mimetype": "text/x-python",
   "name": "python",
   "nbconvert_exporter": "python",
   "pygments_lexer": "ipython3",
   "version": "3.9.7"
  }
 },
 "nbformat": 4,
 "nbformat_minor": 4
}
