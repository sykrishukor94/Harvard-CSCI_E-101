{
 "cells": [
  {
   "cell_type": "markdown",
   "metadata": {},
   "source": [
    "CSCI 101: Foundation of Data Science and Engineering<br>\n",
    "Author: Bruce Huang, Ph.D.<br>\n",
    "<br>\n",
    "Topics: Connect to MySQL Server and use Cursor Method to Execute SQL Commands<br>"
   ]
  },
  {
   "cell_type": "code",
   "execution_count": null,
   "metadata": {},
   "outputs": [],
   "source": [
    "# import MySQL-Python Connector\n",
    "import mysql.connector as sq\n",
    "\n",
    "# Connect to MySQL server\n",
    "mydb=sq.connect(host=\"localhost\",user=\"root\",passwd=\"ucla\", buffered=True)\n",
    "\n",
    "# Create cursor for SQL Command Execution\n",
    "mycursor = mydb.cursor()"
   ]
  },
  {
   "cell_type": "code",
   "execution_count": null,
   "metadata": {},
   "outputs": [],
   "source": [
    "# SQL query to show databases created on MySQL server\n",
    "SQLCMD = 'SHOW DATABASES'\n",
    "mycursor.execute(SQLCMD)"
   ]
  },
  {
   "cell_type": "code",
   "execution_count": null,
   "metadata": {},
   "outputs": [],
   "source": [
    "# Display all database names returned by SHOW DATABASES\n",
    "for db in mycursor:\n",
    "    print (db)"
   ]
  }
 ],
 "metadata": {
  "kernelspec": {
   "display_name": "Python 3 (ipykernel)",
   "language": "python",
   "name": "python3"
  },
  "language_info": {
   "codemirror_mode": {
    "name": "ipython",
    "version": 3
   },
   "file_extension": ".py",
   "mimetype": "text/x-python",
   "name": "python",
   "nbconvert_exporter": "python",
   "pygments_lexer": "ipython3",
   "version": "3.9.7"
  }
 },
 "nbformat": 4,
 "nbformat_minor": 4
}
