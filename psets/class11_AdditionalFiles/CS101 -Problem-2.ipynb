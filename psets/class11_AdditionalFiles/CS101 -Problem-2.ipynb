{
 "cells": [
  {
   "cell_type": "markdown",
   "id": "b48c933c",
   "metadata": {},
   "source": [
    "### Problem -2\n",
    "\n",
    "Import the descriptivestats module that you created in Problem 1. Find the mean, variance , and std.deviation using the instance of DescriptiveStats class for the given list of midterm scores.\n"
   ]
  },
  {
   "cell_type": "code",
   "execution_count": 1,
   "id": "1a3dfcad",
   "metadata": {},
   "outputs": [],
   "source": [
    "#your code \n",
    "\n",
    "midterm_scores = [75, 74, 73, 80, 85, 86, 90, 92, 68, 55, 35, 92, 94, 96, 98]\n",
    "\n",
    "\n"
   ]
  },
  {
   "cell_type": "markdown",
   "id": "e22674da",
   "metadata": {},
   "source": [
    "### Problem 3 - using class, inheritance, encapsulation, and polymorphism\n",
    "\n",
    "\n",
    "Let's say you love animals and decide to write a software to catalog all the mammals. \n",
    "\n",
    "There are many mammals , and you decided to start with dogs, and cats. \n",
    "\n",
    "1. Create a class called Mammal with the attributes species(private), and methods species_information() that shows\n",
    "the species. Add a general method called sound() which prints \"Grrrrr\"\n",
    "\n",
    "2. Create a subclass Dog from Mammal. Override the sound() method to print \"Woof Woof\"\n",
    "\n",
    "3. Create a subclass Cat from Mammal. Override the sound() method to print \"Meow Meow\"\n",
    "\n",
    "For both Dog and Cat class add an attribute name, we definitely want them to have names.\n",
    "\n",
    "Demonstrate instances of Dog, and Cat class in a simple program. \n",
    "\n"
   ]
  },
  {
   "cell_type": "code",
   "execution_count": null,
   "id": "a1e93a7e",
   "metadata": {},
   "outputs": [],
   "source": [
    "class Mammal:\n",
    "    \n",
    "    def __init__(self, species):\n",
    "        #your code here\n",
    "        pass\n",
    "    \n",
    "    \n",
    "    \n",
    "    def show_species(self):\n",
    "        #your code here\n",
    "        print(\"I am a \",___ )\n",
    "        \n",
    "        \n",
    "    def sound(self):\n",
    "        #your code here\n",
    "        \n",
    "\n",
    "        \n",
    "        \n",
    "class Dog(Mammal):\n",
    "    def __init__(self):\n",
    "        super().__init__(self, \"Dog\" )\n",
    "        \n",
    "    \n",
    "    def sound(self):\n",
    "        #your code here\n",
    "        \n",
    "\n",
    "#your code here for class Cat\n",
    "        \n",
    "    \n",
    "    "
   ]
  },
  {
   "cell_type": "code",
   "execution_count": null,
   "id": "a59fe5fa",
   "metadata": {},
   "outputs": [],
   "source": [
    "# your code to create instances"
   ]
  },
  {
   "cell_type": "markdown",
   "id": "7630ee9e",
   "metadata": {},
   "source": [
    "### Discuss Encapsulation, inheritance, and polymorphism "
   ]
  },
  {
   "cell_type": "code",
   "execution_count": null,
   "id": "428b8e8e",
   "metadata": {},
   "outputs": [],
   "source": []
  }
 ],
 "metadata": {
  "kernelspec": {
   "display_name": "Python 3 (ipykernel)",
   "language": "python",
   "name": "python3"
  },
  "language_info": {
   "codemirror_mode": {
    "name": "ipython",
    "version": 3
   },
   "file_extension": ".py",
   "mimetype": "text/x-python",
   "name": "python",
   "nbconvert_exporter": "python",
   "pygments_lexer": "ipython3",
   "version": "3.9.7"
  }
 },
 "nbformat": 4,
 "nbformat_minor": 5
}
