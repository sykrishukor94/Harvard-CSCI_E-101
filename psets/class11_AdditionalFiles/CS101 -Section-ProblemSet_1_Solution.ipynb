{
 "cells": [
  {
   "cell_type": "markdown",
   "id": "fdbde43f",
   "metadata": {},
   "source": [
    "# Problem 1\n",
    "\n",
    "***Even though so far we have been doing procedural programming so far, we have been using classes, and objects indirectly. Think of the libraries pandas, numpy, and their function we have been using. They are all organized in classes, and we have been using them .***\n",
    "\n",
    "*** Let's say you are a software engineer working for University XYZ. You are asked to create a module called descriptivestats that professors can use to get some statistics of the student grades. Perform the following task: ***\n",
    "\n",
    "1. Create a class called DescriptiveStats\n",
    "2. The class should have the attribute X_list\n",
    "3. The following methods:\n",
    "\n",
    "    a. mean , that calculates the mean of X_list\n",
    "    \n",
    "    b. variance , that calculates the variance of X_list. Tt should calculate the sample variance by default\n",
    "    \n",
    "    c. std_dev , that calculates the std_dev of X_list \n",
    "\n",
    "4. save the file as descriptivestats.py in the same folder as this notebook\n",
    "\n",
    "5. We will use your module that you created in the next task.\n",
    "\n",
    "\n",
    "Formulas you may need:\n",
    "\n",
    "### Mean\n",
    "$$ \\bar{x} = \\frac{\\sum_{i=1}^{n}x_i}{n} $$\n",
    "\n",
    "\n",
    "### Variance\n",
    "$$S^2 = \\frac{\\sum_{i=1}^{n}(x_i-\\bar{x})^2}{n-1} $$"
   ]
  },
  {
   "cell_type": "code",
   "execution_count": 17,
   "id": "3ef0ffa2",
   "metadata": {},
   "outputs": [],
   "source": [
    "class DescriptiveStats:\n",
    "    \n",
    "    def __init__(self, X_list):\n",
    "        #your code here\n",
    "        self.__X_list = X_list\n",
    "        \n",
    "    \n",
    "    def mean(self):\n",
    "        #your code here\n",
    "        sum =0\n",
    "        for i in range(len(self.__X_list)):\n",
    "            sum += self.__X_list[i]\n",
    "        \n",
    "        return sum/(len(self.__X_list))\n",
    "    \n",
    "    def variance(self):\n",
    "        #your code here\n",
    "        x_bar = self.mean()\n",
    "        numerator = 0\n",
    "        \n",
    "        for i in range(len(self.__X_list)):\n",
    "            numerator += (self.__X_list[i] - x_bar)**2\n",
    "        \n",
    "        return numerator / (len(self.__X_list)-1)\n",
    "        \n",
    "    \n",
    "    \n",
    "    # your code here for std_dev\n",
    "    \n",
    "    def std_dev(self):\n",
    "        return (self.variance())**(1/2)\n",
    "    "
   ]
  }
 ],
 "metadata": {
  "kernelspec": {
   "display_name": "Python 3 (ipykernel)",
   "language": "python",
   "name": "python3"
  },
  "language_info": {
   "codemirror_mode": {
    "name": "ipython",
    "version": 3
   },
   "file_extension": ".py",
   "mimetype": "text/x-python",
   "name": "python",
   "nbconvert_exporter": "python",
   "pygments_lexer": "ipython3",
   "version": "3.9.7"
  }
 },
 "nbformat": 4,
 "nbformat_minor": 5
}
